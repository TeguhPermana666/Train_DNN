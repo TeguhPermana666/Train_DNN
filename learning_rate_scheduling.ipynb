{
 "cells": [
  {
   "cell_type": "code",
   "execution_count": 1,
   "metadata": {},
   "outputs": [],
   "source": [
    "# python required >= 3.5 version\n",
    "import sys\n",
    "assert sys.version_info >=(3,5)\n",
    "\n",
    "# Scikit-Learn ≥0.20 is required\n",
    "import sklearn\n",
    "assert sklearn.__version__ >= \"0.20\"\n",
    "\n",
    "# TensorFlow ≥2.0 is required\n",
    "import tensorflow as tf\n",
    "from tensorflow import keras\n",
    "assert tf.__version__ >= \"2.0\"\n",
    "\n",
    "%load_ext tensorboard\n",
    "\n",
    "import numpy as np\n",
    "import os\n",
    "import pandas as pd\n",
    "# make the output satable accros run\n",
    "np.random.seed(42)\n",
    "\n",
    "# To plot pretty figures\n",
    "%matplotlib inline\n",
    "import matplotlib as mpl\n",
    "import matplotlib.pyplot as plt\n",
    "mpl.rc('axes', labelsize=14)\n",
    "mpl.rc('xtick', labelsize=12)\n",
    "mpl.rc('ytick', labelsize=12)\n",
    "\n",
    "ROOT = \".\"\n",
    "chapter_id = \"DNN\"\n",
    "image_path = os.path.join(ROOT,\"images\",chapter_id)\n",
    "os.makedirs(image_path,exist_ok=True)\n",
    "\n",
    "def save_fig(fig_id,tigh_layout=True,fig_extension=\"png\",resolution=300):\n",
    "    path = os.path.join(image_path,fig_id + \".\" + fig_extension)\n",
    "    print(\"save figure \",fig_id)\n",
    "    if tigh_layout:\n",
    "        plt.tight_layout()\n",
    "    plt.savefig(path,format=fig_extension,dpi=resolution)\n"
   ]
  },
  {
   "cell_type": "code",
   "execution_count": 2,
   "metadata": {},
   "outputs": [],
   "source": [
    "# get dataset fashion_mnist dataset\n",
    "(X_train_full,y_train_full),(X_test,y_test) = keras.datasets.fashion_mnist.load_data()\n",
    "# standarisasi train data\n",
    "X_train_full = X_train_full/255.0\n",
    "\n",
    "# split train data to train and validasi data\n",
    "X_valid,X_train = X_train_full[:5000], X_train_full[5000:]\n",
    "y_valid,y_train = y_train_full[:5000], y_train_full[5000:]"
   ]
  },
  {
   "cell_type": "markdown",
   "metadata": {},
   "source": [
    "# 1. Power scheduling"
   ]
  },
  {
   "cell_type": "markdown",
   "metadata": {},
   "source": [
    "```lr = lr0 / (1 + steps / s)**c```\n",
    "* Keras uses `c=1` and `s = 1 / decay`"
   ]
  },
  {
   "cell_type": "code",
   "execution_count": 5,
   "metadata": {},
   "outputs": [
    {
     "data": {
      "text/plain": [
       "['Constant',\n",
       " 'GlorotNormal',\n",
       " 'GlorotUniform',\n",
       " 'HeNormal',\n",
       " 'HeUniform',\n",
       " 'Identity',\n",
       " 'Initializer',\n",
       " 'LecunNormal',\n",
       " 'LecunUniform',\n",
       " 'Ones',\n",
       " 'Orthogonal',\n",
       " 'RandomNormal',\n",
       " 'RandomUniform',\n",
       " 'TruncatedNormal',\n",
       " 'VarianceScaling',\n",
       " 'Zeros',\n",
       " 'constant',\n",
       " 'deserialize',\n",
       " 'get',\n",
       " 'glorot_normal',\n",
       " 'glorot_uniform',\n",
       " 'he_normal',\n",
       " 'he_uniform',\n",
       " 'identity',\n",
       " 'lecun_normal',\n",
       " 'lecun_uniform',\n",
       " 'ones',\n",
       " 'orthogonal',\n",
       " 'random_normal',\n",
       " 'random_uniform',\n",
       " 'serialize',\n",
       " 'truncated_normal',\n",
       " 'variance_scaling',\n",
       " 'zeros']"
      ]
     },
     "execution_count": 5,
     "metadata": {},
     "output_type": "execute_result"
    }
   ],
   "source": [
    "[i for i in dir(keras.initializers) if not i.startswith(\"_\")]"
   ]
  },
  {
   "cell_type": "code",
   "execution_count": 6,
   "metadata": {},
   "outputs": [],
   "source": [
    "optimizer = keras.optimizers.SGD(learning_rate=0.01,decay=1e-4)\n",
    "model_1 = keras.Sequential([\n",
    "    keras.layers.Flatten(input_shape=[28,28]),\n",
    "    keras.layers.Dense(300,activation=\"selu\",kernel_initializer=\"lecun_normal\"),\n",
    "    keras.layers.Dense(100,activation=\"selu\",kernel_initializer=\"lecun_normal\"),\n",
    "    keras.layers.Dense(10,activation=\"softmax\")\n",
    "])\n",
    "model_1.compile(loss=\"sparse_categorical_crossentropy\",optimizer=optimizer,metrics=[\"accuracy\"])"
   ]
  },
  {
   "cell_type": "code",
   "execution_count": 16,
   "metadata": {},
   "outputs": [
    {
     "name": "stdout",
     "output_type": "stream",
     "text": [
      "Epoch 1/25\n",
      "1719/1719 [==============================] - 3s 2ms/step - loss: 0.2966 - accuracy: 0.8952 - val_loss: 0.3363 - val_accuracy: 0.8806\n",
      "Epoch 2/25\n",
      "1719/1719 [==============================] - 3s 2ms/step - loss: 0.2956 - accuracy: 0.8953 - val_loss: 0.3310 - val_accuracy: 0.8802\n",
      "Epoch 3/25\n",
      "1719/1719 [==============================] - 3s 2ms/step - loss: 0.2951 - accuracy: 0.8955 - val_loss: 0.3311 - val_accuracy: 0.8778\n",
      "Epoch 4/25\n",
      "1719/1719 [==============================] - 3s 2ms/step - loss: 0.2944 - accuracy: 0.8959 - val_loss: 0.3318 - val_accuracy: 0.8804\n",
      "Epoch 5/25\n",
      "1719/1719 [==============================] - 3s 2ms/step - loss: 0.2935 - accuracy: 0.8953 - val_loss: 0.3305 - val_accuracy: 0.8808\n",
      "Epoch 6/25\n",
      "1719/1719 [==============================] - 3s 2ms/step - loss: 0.2927 - accuracy: 0.8963 - val_loss: 0.3297 - val_accuracy: 0.8814\n",
      "Epoch 7/25\n",
      "1719/1719 [==============================] - 3s 2ms/step - loss: 0.2917 - accuracy: 0.8967 - val_loss: 0.3296 - val_accuracy: 0.8822\n",
      "Epoch 8/25\n",
      "1719/1719 [==============================] - 3s 2ms/step - loss: 0.2911 - accuracy: 0.8969 - val_loss: 0.3288 - val_accuracy: 0.8836\n",
      "Epoch 9/25\n",
      "1719/1719 [==============================] - 3s 2ms/step - loss: 0.2902 - accuracy: 0.8969 - val_loss: 0.3319 - val_accuracy: 0.8844\n",
      "Epoch 10/25\n",
      "1719/1719 [==============================] - 3s 2ms/step - loss: 0.2899 - accuracy: 0.8976 - val_loss: 0.3292 - val_accuracy: 0.8802\n",
      "Epoch 11/25\n",
      "1719/1719 [==============================] - 3s 2ms/step - loss: 0.2892 - accuracy: 0.8983 - val_loss: 0.3277 - val_accuracy: 0.8812\n",
      "Epoch 12/25\n",
      "1719/1719 [==============================] - 3s 2ms/step - loss: 0.2882 - accuracy: 0.8975 - val_loss: 0.3293 - val_accuracy: 0.8816\n",
      "Epoch 13/25\n",
      "1719/1719 [==============================] - 3s 2ms/step - loss: 0.2876 - accuracy: 0.8977 - val_loss: 0.3280 - val_accuracy: 0.8814\n",
      "Epoch 14/25\n",
      "1719/1719 [==============================] - 3s 2ms/step - loss: 0.2870 - accuracy: 0.8986 - val_loss: 0.3296 - val_accuracy: 0.8810\n",
      "Epoch 15/25\n",
      "1719/1719 [==============================] - 3s 2ms/step - loss: 0.2863 - accuracy: 0.8987 - val_loss: 0.3278 - val_accuracy: 0.8824\n",
      "Epoch 16/25\n",
      "1719/1719 [==============================] - 3s 2ms/step - loss: 0.2857 - accuracy: 0.8987 - val_loss: 0.3271 - val_accuracy: 0.8826\n",
      "Epoch 17/25\n",
      "1719/1719 [==============================] - 3s 2ms/step - loss: 0.2848 - accuracy: 0.8985 - val_loss: 0.3281 - val_accuracy: 0.8826\n",
      "Epoch 18/25\n",
      "1719/1719 [==============================] - 3s 2ms/step - loss: 0.2846 - accuracy: 0.8990 - val_loss: 0.3269 - val_accuracy: 0.8830\n",
      "Epoch 19/25\n",
      "1719/1719 [==============================] - 3s 2ms/step - loss: 0.2838 - accuracy: 0.8994 - val_loss: 0.3252 - val_accuracy: 0.8836\n",
      "Epoch 20/25\n",
      "1719/1719 [==============================] - 3s 2ms/step - loss: 0.2833 - accuracy: 0.8998 - val_loss: 0.3295 - val_accuracy: 0.8830\n",
      "Epoch 21/25\n",
      "1719/1719 [==============================] - 3s 2ms/step - loss: 0.2826 - accuracy: 0.9005 - val_loss: 0.3282 - val_accuracy: 0.8836\n",
      "Epoch 22/25\n",
      "1719/1719 [==============================] - 3s 2ms/step - loss: 0.2825 - accuracy: 0.8997 - val_loss: 0.3251 - val_accuracy: 0.8848\n",
      "Epoch 23/25\n",
      "1719/1719 [==============================] - 3s 2ms/step - loss: 0.2818 - accuracy: 0.9000 - val_loss: 0.3264 - val_accuracy: 0.8856\n",
      "Epoch 24/25\n",
      "1719/1719 [==============================] - 3s 2ms/step - loss: 0.2813 - accuracy: 0.8998 - val_loss: 0.3255 - val_accuracy: 0.8842\n",
      "Epoch 25/25\n",
      "1719/1719 [==============================] - 3s 2ms/step - loss: 0.2807 - accuracy: 0.9006 - val_loss: 0.3236 - val_accuracy: 0.8852\n"
     ]
    }
   ],
   "source": [
    "history_1 = model_1.fit(X_train,y_train,epochs=25,\n",
    "                        validation_data=[X_valid,y_valid])"
   ]
  },
  {
   "cell_type": "code",
   "execution_count": 19,
   "metadata": {},
   "outputs": [
    {
     "data": {
      "image/png": "[encoded data removed]",
      "text/plain": [
       "<Figure size 432x288 with 1 Axes>"
      ]
     },
     "metadata": {
      "needs_background": "light"
     },
     "output_type": "display_data"
    },
    {
     "name": "stdout",
     "output_type": "stream",
     "text": [
      "save figure  power_scheduling\n"
     ]
    },
    {
     "data": {
      "text/plain": [
       "<Figure size 432x288 with 0 Axes>"
      ]
     },
     "metadata": {},
     "output_type": "display_data"
    }
   ],
   "source": [
    "import math\n",
    "n_epochs=25\n",
    "learning_rate = 1e-2\n",
    "decay = 1e-4\n",
    "batch_size= 32\n",
    "n_steps_per_epochs = math.ceil(len(X_train)/batch_size)#1719\n",
    "epochs = np.arange(n_epochs)\n",
    "lrs = learning_rate / (1+ decay * epochs * n_steps_per_epochs)\n",
    "\n",
    "plt.plot(epochs,lrs,\"o-\")\n",
    "plt.axis([0, n_epochs -1,   0, 1e-2])\n",
    "plt.xlabel(\"Epoch\")\n",
    "plt.ylabel(\"Learning Rate\")\n",
    "plt.title(\"Power Scheduling\", fontsize=14)\n",
    "plt.grid(True)\n",
    "plt.show()\n",
    "save_fig(\"power_scheduling\")"
   ]
  },
  {
   "cell_type": "markdown",
   "metadata": {},
   "source": [
    "# 2. Exponesial Scheduling"
   ]
  },
  {
   "cell_type": "markdown",
   "metadata": {},
   "source": [
    "```lr = lr0 * 0.1**(epoch / s)```"
   ]
  },
  {
   "cell_type": "code",
   "execution_count": 20,
   "metadata": {},
   "outputs": [],
   "source": [
    "# if setup initial learning rate and steps s rate static\n",
    "def exponential_decay_fn(epoch):\n",
    "    return 1e-2 * 1e-1 **(epoch/20)"
   ]
  },
  {
   "cell_type": "code",
   "execution_count": 29,
   "metadata": {},
   "outputs": [],
   "source": [
    "# if want more dynamic allocation hyperparameter\n",
    "def exponential_decay(lr0,s):\n",
    "    def exponential_decay_fn(epoch):\n",
    "        return lr0 * 1e-1 **(epoch/s)\n",
    "    return exponential_decay_fn"
   ]
  },
  {
   "cell_type": "code",
   "execution_count": 30,
   "metadata": {},
   "outputs": [],
   "source": [
    "exponential_decay_fn = exponential_decay(lr0=1e-2,s=20)\n",
    "model_2 = keras.models.Sequential([\n",
    "    keras.layers.Flatten(input_shape=[28, 28]),\n",
    "    keras.layers.Dense(300, activation=\"selu\", kernel_initializer=\"lecun_normal\"),\n",
    "    keras.layers.Dense(100, activation=\"selu\", kernel_initializer=\"lecun_normal\"),\n",
    "    keras.layers.Dense(10, activation=\"softmax\")\n",
    "])\n",
    "model_2.compile(loss=\"sparse_categorical_crossentropy\", optimizer=\"nadam\", metrics=[\"accuracy\"])\n",
    "n_epochs = 25"
   ]
  },
  {
   "cell_type": "code",
   "execution_count": 31,
   "metadata": {},
   "outputs": [
    {
     "name": "stdout",
     "output_type": "stream",
     "text": [
      "Epoch 1/25\n",
      "1719/1719 [==============================] - 5s 3ms/step - loss: 0.7447 - accuracy: 0.7552 - val_loss: 0.5128 - val_accuracy: 0.8244 - lr: 0.0100\n",
      "Epoch 2/25\n",
      "1719/1719 [==============================] - 5s 3ms/step - loss: 0.5179 - accuracy: 0.8247 - val_loss: 0.4791 - val_accuracy: 0.8422 - lr: 0.0089\n",
      "Epoch 3/25\n",
      "1719/1719 [==============================] - 5s 3ms/step - loss: 0.4509 - accuracy: 0.8490 - val_loss: 0.3935 - val_accuracy: 0.8664 - lr: 0.0079\n",
      "Epoch 4/25\n",
      "1719/1719 [==============================] - 5s 3ms/step - loss: 0.4050 - accuracy: 0.8616 - val_loss: 0.4286 - val_accuracy: 0.8550 - lr: 0.0071\n",
      "Epoch 5/25\n",
      "1719/1719 [==============================] - 5s 3ms/step - loss: 0.3768 - accuracy: 0.8711 - val_loss: 0.4272 - val_accuracy: 0.8620 - lr: 0.0063\n",
      "Epoch 6/25\n",
      "1719/1719 [==============================] - 5s 3ms/step - loss: 0.3563 - accuracy: 0.8765 - val_loss: 0.4014 - val_accuracy: 0.8698 - lr: 0.0056\n",
      "Epoch 7/25\n",
      "1719/1719 [==============================] - 5s 3ms/step - loss: 0.3322 - accuracy: 0.8856 - val_loss: 0.3934 - val_accuracy: 0.8740 - lr: 0.0050\n",
      "Epoch 8/25\n",
      "1719/1719 [==============================] - 5s 3ms/step - loss: 0.3138 - accuracy: 0.8901 - val_loss: 0.3697 - val_accuracy: 0.8864 - lr: 0.0045\n",
      "Epoch 9/25\n",
      "1719/1719 [==============================] - 5s 3ms/step - loss: 0.2959 - accuracy: 0.8961 - val_loss: 0.3755 - val_accuracy: 0.8814 - lr: 0.0040\n",
      "Epoch 10/25\n",
      "1719/1719 [==============================] - 5s 3ms/step - loss: 0.2805 - accuracy: 0.9015 - val_loss: 0.3682 - val_accuracy: 0.8868 - lr: 0.0035\n",
      "Epoch 11/25\n",
      "1719/1719 [==============================] - 5s 3ms/step - loss: 0.2673 - accuracy: 0.9048 - val_loss: 0.3657 - val_accuracy: 0.8860 - lr: 0.0032\n",
      "Epoch 12/25\n",
      "1719/1719 [==============================] - 5s 3ms/step - loss: 0.2554 - accuracy: 0.9086 - val_loss: 0.3776 - val_accuracy: 0.8868 - lr: 0.0028\n",
      "Epoch 13/25\n",
      "1719/1719 [==============================] - 5s 3ms/step - loss: 0.2409 - accuracy: 0.9132 - val_loss: 0.3641 - val_accuracy: 0.8918 - lr: 0.0025\n",
      "Epoch 14/25\n",
      "1719/1719 [==============================] - 5s 3ms/step - loss: 0.2344 - accuracy: 0.9159 - val_loss: 0.3734 - val_accuracy: 0.8892 - lr: 0.0022\n",
      "Epoch 15/25\n",
      "1719/1719 [==============================] - 5s 3ms/step - loss: 0.2199 - accuracy: 0.9206 - val_loss: 0.3666 - val_accuracy: 0.8888 - lr: 0.0020\n",
      "Epoch 16/25\n",
      "1719/1719 [==============================] - 5s 3ms/step - loss: 0.2114 - accuracy: 0.9230 - val_loss: 0.3386 - val_accuracy: 0.8900 - lr: 0.0018\n",
      "Epoch 17/25\n",
      "1719/1719 [==============================] - 5s 3ms/step - loss: 0.2013 - accuracy: 0.9263 - val_loss: 0.3518 - val_accuracy: 0.8950 - lr: 0.0016\n",
      "Epoch 18/25\n",
      "1719/1719 [==============================] - 5s 3ms/step - loss: 0.1928 - accuracy: 0.9298 - val_loss: 0.3543 - val_accuracy: 0.8938 - lr: 0.0014\n",
      "Epoch 19/25\n",
      "1719/1719 [==============================] - 5s 3ms/step - loss: 0.1842 - accuracy: 0.9321 - val_loss: 0.3697 - val_accuracy: 0.8944 - lr: 0.0013\n",
      "Epoch 20/25\n",
      "1719/1719 [==============================] - 5s 3ms/step - loss: 0.1775 - accuracy: 0.9357 - val_loss: 0.3845 - val_accuracy: 0.8834 - lr: 0.0011\n",
      "Epoch 21/25\n",
      "1719/1719 [==============================] - 5s 3ms/step - loss: 0.1715 - accuracy: 0.9378 - val_loss: 0.3878 - val_accuracy: 0.8970 - lr: 0.0010\n",
      "Epoch 22/25\n",
      "1719/1719 [==============================] - 5s 3ms/step - loss: 0.1653 - accuracy: 0.9390 - val_loss: 0.3761 - val_accuracy: 0.8958 - lr: 8.9125e-04\n",
      "Epoch 23/25\n",
      "1719/1719 [==============================] - 5s 3ms/step - loss: 0.1581 - accuracy: 0.9423 - val_loss: 0.3813 - val_accuracy: 0.8966 - lr: 7.9433e-04\n",
      "Epoch 24/25\n",
      "1719/1719 [==============================] - 5s 3ms/step - loss: 0.1538 - accuracy: 0.9435 - val_loss: 0.3859 - val_accuracy: 0.8976 - lr: 7.0795e-04\n",
      "Epoch 25/25\n",
      "1719/1719 [==============================] - 5s 3ms/step - loss: 0.1489 - accuracy: 0.9465 - val_loss: 0.3829 - val_accuracy: 0.8980 - lr: 6.3096e-04\n"
     ]
    }
   ],
   "source": [
    "lr_scheduler_exponensial = keras.callbacks.LearningRateScheduler(exponential_decay_fn)\n",
    "history_2 = model_2.fit(X_train, y_train, epochs = n_epochs,\n",
    "                        validation_data = [X_valid,y_valid],\n",
    "                        callbacks=[lr_scheduler_exponensial])"
   ]
  },
  {
   "cell_type": "code",
   "execution_count": 37,
   "metadata": {},
   "outputs": [
    {
     "data": {
      "text/plain": [
       "dict_keys(['loss', 'accuracy', 'val_loss', 'val_accuracy', 'lr'])"
      ]
     },
     "execution_count": 37,
     "metadata": {},
     "output_type": "execute_result"
    }
   ],
   "source": [
    "history_2.history.keys()"
   ]
  },
  {
   "cell_type": "code",
   "execution_count": 39,
   "metadata": {},
   "outputs": [
    {
     "data": {
      "image/png": "[encoded data removed]",
      "text/plain": [
       "<Figure size 432x288 with 1 Axes>"
      ]
     },
     "metadata": {
      "needs_background": "light"
     },
     "output_type": "display_data"
    },
    {
     "name": "stdout",
     "output_type": "stream",
     "text": [
      "save figure  Exponential Scheduling\n"
     ]
    },
    {
     "data": {
      "text/plain": [
       "<Figure size 432x288 with 0 Axes>"
      ]
     },
     "metadata": {},
     "output_type": "display_data"
    }
   ],
   "source": [
    "# exponensial scheduling per epochs\n",
    "plt.plot(history_2.epoch, history_2.history[\"lr\"],\"o-\")\n",
    "plt.axis([0,n_epochs-1,  0,0.011])\n",
    "plt.xlabel(\"Epoch\")\n",
    "plt.ylabel(\"Learning Rate\")\n",
    "plt.title(\"Exponential Scheduling\", fontsize=14)\n",
    "plt.grid(True)\n",
    "plt.show()\n",
    "save_fig(\"Exponential Scheduling\")"
   ]
  },
  {
   "cell_type": "code",
   "execution_count": 40,
   "metadata": {},
   "outputs": [],
   "source": [
    "# exponensial scheduling per iteration ( per batch)\n",
    "def exponential_decay_fn(epoch, lr):\n",
    "    return lr * 0.1 ** (1/20)"
   ]
  },
  {
   "cell_type": "code",
   "execution_count": 42,
   "metadata": {},
   "outputs": [],
   "source": [
    "K = keras.backend\n",
    "\n",
    "class ExponensialDecay(keras.callbacks.Callback):\n",
    "    def __init__(self,s=4e4):\n",
    "        super().__init__()\n",
    "        self.s = s\n",
    "    \n",
    "    def on_batch_begin(self,batch,logs=None):\n",
    "        # Note : the batch argument is reset at each epoch\n",
    "        lr = K.get_value(self.model.optimizer.learning_rate)\n",
    "        K.set_value(self.model.optimizer.learning_rate, lr *0.1**(1/self.s))\n",
    "    \n",
    "    def on_epoch_end(self,epoch,logs=None):\n",
    "        logs = logs or []\n",
    "        logs[\"lr\"] = K.get_value(self.model.optimizer.learning_rate)\n",
    "        "
   ]
  },
  {
   "cell_type": "code",
   "execution_count": 46,
   "metadata": {},
   "outputs": [
    {
     "name": "stdout",
     "output_type": "stream",
     "text": [
      "Epoch 1/25\n",
      "1719/1719 [==============================] - 6s 3ms/step - loss: 0.7027 - accuracy: 0.7695 - val_loss: 0.8459 - val_accuracy: 0.7282 - lr: 0.0089\n",
      "Epoch 2/25\n",
      "1719/1719 [==============================] - 5s 3ms/step - loss: 0.5049 - accuracy: 0.8281 - val_loss: 0.4590 - val_accuracy: 0.8514 - lr: 0.0079\n",
      "Epoch 3/25\n",
      "1719/1719 [==============================] - 5s 3ms/step - loss: 0.4417 - accuracy: 0.8481 - val_loss: 0.5157 - val_accuracy: 0.8230 - lr: 0.0071\n",
      "Epoch 4/25\n",
      "1719/1719 [==============================] - 5s 3ms/step - loss: 0.3984 - accuracy: 0.8637 - val_loss: 0.5401 - val_accuracy: 0.8414 - lr: 0.0063\n",
      "Epoch 5/25\n",
      "1719/1719 [==============================] - 5s 3ms/step - loss: 0.3672 - accuracy: 0.8742 - val_loss: 0.3984 - val_accuracy: 0.8722 - lr: 0.0056\n",
      "Epoch 6/25\n",
      "1719/1719 [==============================] - 5s 3ms/step - loss: 0.3405 - accuracy: 0.8806 - val_loss: 0.3667 - val_accuracy: 0.8778 - lr: 0.0050\n",
      "Epoch 7/25\n",
      "1719/1719 [==============================] - 5s 3ms/step - loss: 0.3221 - accuracy: 0.8885 - val_loss: 0.3705 - val_accuracy: 0.8750 - lr: 0.0045\n",
      "Epoch 8/25\n",
      "1719/1719 [==============================] - 5s 3ms/step - loss: 0.3083 - accuracy: 0.8920 - val_loss: 0.3882 - val_accuracy: 0.8756 - lr: 0.0040\n",
      "Epoch 9/25\n",
      "1719/1719 [==============================] - 5s 3ms/step - loss: 0.2879 - accuracy: 0.8995 - val_loss: 0.3416 - val_accuracy: 0.8860 - lr: 0.0035\n",
      "Epoch 10/25\n",
      "1719/1719 [==============================] - 5s 3ms/step - loss: 0.2748 - accuracy: 0.9028 - val_loss: 0.3479 - val_accuracy: 0.8866 - lr: 0.0032\n",
      "Epoch 11/25\n",
      "1719/1719 [==============================] - 5s 3ms/step - loss: 0.2598 - accuracy: 0.9065 - val_loss: 0.3436 - val_accuracy: 0.8890 - lr: 0.0028\n",
      "Epoch 12/25\n",
      "1719/1719 [==============================] - 5s 3ms/step - loss: 0.2459 - accuracy: 0.9113 - val_loss: 0.3594 - val_accuracy: 0.8888 - lr: 0.0025\n",
      "Epoch 13/25\n",
      "1719/1719 [==============================] - 5s 3ms/step - loss: 0.2344 - accuracy: 0.9150 - val_loss: 0.3630 - val_accuracy: 0.8880 - lr: 0.0022\n",
      "Epoch 14/25\n",
      "1719/1719 [==============================] - 5s 3ms/step - loss: 0.2216 - accuracy: 0.9198 - val_loss: 0.3497 - val_accuracy: 0.8934 - lr: 0.0020\n",
      "Epoch 15/25\n",
      "1719/1719 [==============================] - 5s 3ms/step - loss: 0.2109 - accuracy: 0.9225 - val_loss: 0.3619 - val_accuracy: 0.8958 - lr: 0.0018\n",
      "Epoch 16/25\n",
      "1719/1719 [==============================] - 5s 3ms/step - loss: 0.2012 - accuracy: 0.9267 - val_loss: 0.3589 - val_accuracy: 0.8926 - lr: 0.0016\n",
      "Epoch 17/25\n",
      "1719/1719 [==============================] - 5s 3ms/step - loss: 0.1933 - accuracy: 0.9296 - val_loss: 0.3681 - val_accuracy: 0.8952 - lr: 0.0014\n",
      "Epoch 18/25\n",
      "1719/1719 [==============================] - 5s 3ms/step - loss: 0.1847 - accuracy: 0.9325 - val_loss: 0.3917 - val_accuracy: 0.8880 - lr: 0.0013\n",
      "Epoch 19/25\n",
      "1719/1719 [==============================] - 5s 3ms/step - loss: 0.1770 - accuracy: 0.9354 - val_loss: 0.3682 - val_accuracy: 0.8930 - lr: 0.0011\n",
      "Epoch 20/25\n",
      "1719/1719 [==============================] - 5s 3ms/step - loss: 0.1693 - accuracy: 0.9389 - val_loss: 0.3863 - val_accuracy: 0.8928 - lr: 9.9967e-04\n",
      "Epoch 21/25\n",
      "1719/1719 [==============================] - 5s 3ms/step - loss: 0.1643 - accuracy: 0.9396 - val_loss: 0.3930 - val_accuracy: 0.8956 - lr: 8.9094e-04\n",
      "Epoch 22/25\n",
      "1719/1719 [==============================] - 5s 3ms/step - loss: 0.1576 - accuracy: 0.9430 - val_loss: 0.3853 - val_accuracy: 0.8958 - lr: 7.9404e-04\n",
      "Epoch 23/25\n",
      "1719/1719 [==============================] - 5s 3ms/step - loss: 0.1517 - accuracy: 0.9449 - val_loss: 0.4036 - val_accuracy: 0.8964 - lr: 7.0767e-04\n",
      "Epoch 24/25\n",
      "1719/1719 [==============================] - 5s 3ms/step - loss: 0.1465 - accuracy: 0.9474 - val_loss: 0.4020 - val_accuracy: 0.8948 - lr: 6.3071e-04\n",
      "Epoch 25/25\n",
      "1719/1719 [==============================] - 5s 3ms/step - loss: 0.1418 - accuracy: 0.9487 - val_loss: 0.4199 - val_accuracy: 0.8958 - lr: 5.6211e-04\n"
     ]
    }
   ],
   "source": [
    "model_3 = keras.models.Sequential([\n",
    "    keras.layers.Flatten(input_shape=[28, 28]),\n",
    "    keras.layers.Dense(300, activation=\"selu\", kernel_initializer=\"lecun_normal\"),\n",
    "    keras.layers.Dense(100, activation=\"selu\", kernel_initializer=\"lecun_normal\"),\n",
    "    keras.layers.Dense(10, activation=\"softmax\")\n",
    "])\n",
    "lr0 = 1e-2\n",
    "optimizer = keras.optimizers.Nadam(learning_rate=lr0,beta_1=0.9,beta_2=0.999)\n",
    "model_3.compile(loss=\"sparse_categorical_crossentropy\",optimizer=optimizer,\n",
    "                metrics = [\"accuracy\"])\n",
    "n_epochs = 25\n",
    "\n",
    "s = 20 * len(X_train) //32 #=> 34375 number setiap steps pada 20 epochs(batch size =32) floor\n",
    "exp_decay = ExponensialDecay(s)\n",
    "history_3 = model_3.fit(X_train,y_train,epochs=n_epochs,\n",
    "                        validation_data = [X_valid,y_valid],\n",
    "                        callbacks=[exp_decay])"
   ]
  },
  {
   "cell_type": "code",
   "execution_count": 49,
   "metadata": {},
   "outputs": [],
   "source": [
    "# visualize\n",
    "n_steps = n_epochs * len(X_train) //32 # 42968\n",
    "steps = np.arange(n_steps)\n",
    "lrs = lr0 * 0.1 **(steps / s)"
   ]
  },
  {
   "cell_type": "code",
   "execution_count": 54,
   "metadata": {},
   "outputs": [
    {
     "data": {
      "image/png": "[encoded data removed]",
      "text/plain": [
       "<Figure size 432x288 with 1 Axes>"
      ]
     },
     "metadata": {
      "needs_background": "light"
     },
     "output_type": "display_data"
    },
    {
     "name": "stdout",
     "output_type": "stream",
     "text": [
      "save figure  Exponential Scheduling (per batch)\n"
     ]
    },
    {
     "data": {
      "text/plain": [
       "<Figure size 432x288 with 0 Axes>"
      ]
     },
     "metadata": {},
     "output_type": "display_data"
    }
   ],
   "source": [
    "plt.plot(steps, lrs, \"-\", linewidth=2)\n",
    "plt.axis([0, n_steps - 1, 0, lr0 * 1.1])\n",
    "plt.xlabel(\"Batch\")\n",
    "plt.ylabel(\"Learning Rate\")\n",
    "plt.title(\"Exponential Scheduling (per batch)\", fontsize=14)\n",
    "plt.grid(True)\n",
    "plt.show()\n",
    "save_fig(\"Exponential Scheduling (per batch)\")"
   ]
  }
 ],
 "metadata": {
  "kernelspec": {
   "display_name": "Python 3.9.9 ('env': venv)",
   "language": "python",
   "name": "python3"
  },
  "language_info": {
   "codemirror_mode": {
    "name": "ipython",
    "version": 3
   },
   "file_extension": ".py",
   "mimetype": "text/x-python",
   "name": "python",
   "nbconvert_exporter": "python",
   "pygments_lexer": "ipython3",
   "version": "3.9.9"
  },
  "orig_nbformat": 4,
  "vscode": {
   "interpreter": {
    "hash": "4ec5c1472ff0ffb40d4bfde534367b3b628558da3aa61cb988263ac340cc3560"
   }
  }
 },
 "nbformat": 4,
 "nbformat_minor": 2
}
