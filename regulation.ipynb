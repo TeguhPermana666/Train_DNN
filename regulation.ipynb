{
 "cells": [
  {
   "cell_type": "code",
   "execution_count": 1,
   "metadata": {},
   "outputs": [],
   "source": [
    "# python required >= 3.5 version\n",
    "import sys\n",
    "assert sys.version_info >=(3,5)\n",
    "\n",
    "# Scikit-Learn ≥0.20 is required\n",
    "import sklearn\n",
    "assert sklearn.__version__ >= \"0.20\"\n",
    "\n",
    "# TensorFlow ≥2.0 is required\n",
    "import tensorflow as tf\n",
    "from tensorflow import keras\n",
    "assert tf.__version__ >= \"2.0\"\n",
    "\n",
    "%load_ext tensorboard\n",
    "\n",
    "import numpy as np\n",
    "import os\n",
    "import pandas as pd\n",
    "# make the output satable accros run\n",
    "np.random.seed(42)\n",
    "\n",
    "# To plot pretty figures\n",
    "%matplotlib inline\n",
    "import matplotlib as mpl\n",
    "import matplotlib.pyplot as plt\n",
    "mpl.rc('axes', labelsize=14)\n",
    "mpl.rc('xtick', labelsize=12)\n",
    "mpl.rc('ytick', labelsize=12)\n",
    "\n",
    "ROOT = \".\"\n",
    "chapter_id = \"DNN\"\n",
    "image_path = os.path.join(ROOT,\"images\",chapter_id)\n",
    "os.makedirs(image_path,exist_ok=True)\n",
    "\n",
    "def save_fig(fig_id,tigh_layout=True,fig_extension=\"png\",resolution=300):\n",
    "    path = os.path.join(image_path,fig_id + \".\" + fig_extension)\n",
    "    print(\"save figure \",fig_id)\n",
    "    if tigh_layout:\n",
    "        plt.tight_layout()\n",
    "    plt.savefig(path,format=fig_extension,dpi=resolution)\n"
   ]
  },
  {
   "cell_type": "code",
   "execution_count": 2,
   "metadata": {},
   "outputs": [],
   "source": [
    "# get dataset fashion_mnist dataset\n",
    "(X_train_full,y_train_full),(X_test,y_test) = keras.datasets.fashion_mnist.load_data()\n",
    "# standarisasi train data\n",
    "X_train_full = X_train_full/255.0\n",
    "\n",
    "# split train data to train and validasi data\n",
    "X_valid,X_train = X_train_full[:5000], X_train_full[5000:]\n",
    "y_valid,y_train = y_train_full[:5000], y_train_full[5000:]"
   ]
  },
  {
   "cell_type": "markdown",
   "metadata": {},
   "source": [
    "# l1 and l2 regulazation"
   ]
  },
  {
   "cell_type": "code",
   "execution_count": 3,
   "metadata": {},
   "outputs": [],
   "source": [
    "layer = keras.layers.Dense(100,activation=\"elu\",\n",
    "                           kernel_initializer = \"he_normal\",\n",
    "                           kernel_regularizer=keras.regularizers.l2(1e-2))\n",
    "# or l1(0.1) for ℓ1 regularization with a factor of 0.1\n",
    "# or l1_l2(0.1, 0.01) for both ℓ1 and ℓ2 regularization, with factors 0.1 and 0.01 respectively"
   ]
  },
  {
   "cell_type": "code",
   "execution_count": 4,
   "metadata": {},
   "outputs": [],
   "source": [
    "model_1 = keras.models.Sequential([\n",
    "    keras.layers.Flatten(input_shape=[28,28]),\n",
    "    keras.layers.Dense(300,activation=\"elu\",\n",
    "                       kernel_initializer=\"he_normal\",\n",
    "                       kernel_regularizer=keras.regularizers.l2(1e-2)),\n",
    "    \n",
    "    keras.layers.Dense(100,activation=\"elu\",\n",
    "                       kernel_initializer=\"he_normal\",\n",
    "                       kernel_regularizer=keras.regularizers.l2(1e-2)),\n",
    "\n",
    "    keras.layers.Dense(10,activation=\"softmax\",\n",
    "                       kernel_initializer=\"glorot_uniform\",\n",
    "                       kernel_regularizer=keras.regularizers.l2(1e-2))\n",
    "    \n",
    "])"
   ]
  },
  {
   "cell_type": "code",
   "execution_count": 5,
   "metadata": {},
   "outputs": [
    {
     "name": "stdout",
     "output_type": "stream",
     "text": [
      "Epoch 1/2\n",
      "1719/1719 [==============================] - 6s 3ms/step - loss: 1.5822 - accuracy: 0.7771 - val_loss: 0.9151 - val_accuracy: 0.7924\n",
      "Epoch 2/2\n",
      "1719/1719 [==============================] - 5s 3ms/step - loss: 0.9106 - accuracy: 0.7930 - val_loss: 0.8682 - val_accuracy: 0.8088\n"
     ]
    }
   ],
   "source": [
    "model_1.compile(loss=\"sparse_categorical_crossentropy\", optimizer=\"nadam\", metrics=[\"accuracy\"])\n",
    "n_epochs = 2\n",
    "history = model_1.fit(X_train, y_train, epochs=n_epochs,\n",
    "                    validation_data=(X_valid, y_valid))"
   ]
  },
  {
   "cell_type": "markdown",
   "metadata": {},
   "source": [
    "pada saat program diatas terjadi boiler code pengulangan berapa layer yang sama dapat di hilangkan dengan simple menggunakan from functools import partial"
   ]
  },
  {
   "cell_type": "code",
   "execution_count": 6,
   "metadata": {},
   "outputs": [],
   "source": [
    "from functools import partial\n",
    "RegularizedDense = partial(keras.layers.Dense,\n",
    "                           activation=\"elu\",\n",
    "                           kernel_initializer=\"he_normal\",\n",
    "                           kernel_regularizer=keras.regularizers.l2(1e-2))\n",
    "    "
   ]
  },
  {
   "cell_type": "code",
   "execution_count": 7,
   "metadata": {},
   "outputs": [
    {
     "name": "stdout",
     "output_type": "stream",
     "text": [
      "Epoch 1/2\n",
      "1719/1719 [==============================] - 5s 3ms/step - loss: 1.3988 - accuracy: 0.7805 - val_loss: 0.8320 - val_accuracy: 0.7812\n",
      "Epoch 2/2\n",
      "1719/1719 [==============================] - 4s 3ms/step - loss: 0.6907 - accuracy: 0.8095 - val_loss: 0.6699 - val_accuracy: 0.8054\n"
     ]
    }
   ],
   "source": [
    "model_2 = keras.models.Sequential([\n",
    "    keras.layers.Flatten(input_shape=[28, 28]),\n",
    "    RegularizedDense(300),\n",
    "    RegularizedDense(100),\n",
    "    # RegularizedDense(10, activation=\"softmax\",kernel_initializer=\"glorot_uniform\")\n",
    "    keras.layers.Dense(10, activation=\"softmax\",kernel_initializer=\"glorot_uniform\")\n",
    "])\n",
    "model_2.compile(loss=\"sparse_categorical_crossentropy\", optimizer=\"nadam\", metrics=[\"accuracy\"])\n",
    "n_epochs = 2\n",
    "history = model_2.fit(X_train, y_train, epochs=n_epochs,\n",
    "                    validation_data=(X_valid, y_valid))"
   ]
  },
  {
   "cell_type": "code",
   "execution_count": 8,
   "metadata": {},
   "outputs": [
    {
     "name": "stdout",
     "output_type": "stream",
     "text": [
      "Model: \"sequential_1\"\n",
      "_________________________________________________________________\n",
      " Layer (type)                Output Shape              Param #   \n",
      "=================================================================\n",
      " flatten_1 (Flatten)         (None, 784)               0         \n",
      "                                                                 \n",
      " dense_4 (Dense)             (None, 300)               235500    \n",
      "                                                                 \n",
      " dense_5 (Dense)             (None, 100)               30100     \n",
      "                                                                 \n",
      " dense_6 (Dense)             (None, 10)                1010      \n",
      "                                                                 \n",
      "=================================================================\n",
      "Total params: 266,610\n",
      "Trainable params: 266,610\n",
      "Non-trainable params: 0\n",
      "_________________________________________________________________\n"
     ]
    }
   ],
   "source": [
    "model_2.summary()"
   ]
  },
  {
   "cell_type": "markdown",
   "metadata": {},
   "source": [
    "# Regular Dropout"
   ]
  },
  {
   "cell_type": "code",
   "execution_count": 23,
   "metadata": {},
   "outputs": [
    {
     "data": {
      "text/plain": [
       "9"
      ]
     },
     "execution_count": 23,
     "metadata": {},
     "output_type": "execute_result"
    }
   ],
   "source": [
    "y_train.max()"
   ]
  },
  {
   "cell_type": "code",
   "execution_count": 10,
   "metadata": {},
   "outputs": [],
   "source": [
    "tf.random.set_seed(42)\n",
    "np.random.seed(42)\n",
    "root_logdir = os.path.join(os.curdir, \"my_logs\")\n",
    "def get_run_logdir():\n",
    "    import time\n",
    "    run_id = time.strftime(\"run_%Y_%m_%d-%H_%M_%S\")\n",
    "    return os.path.join(root_logdir, run_id)\n",
    "\n",
    "run_logdir = get_run_logdir()\n",
    "run_logdir"
   ]
  },
  {
   "cell_type": "code",
   "execution_count": 26,
   "metadata": {},
   "outputs": [
    {
     "name": "stdout",
     "output_type": "stream",
     "text": [
      "Epoch 1/5\n",
      "1719/1719 [==============================] - 8s 4ms/step - loss: 0.5819 - accuracy: 0.7886 - val_loss: 0.4439 - val_accuracy: 0.8346 - lr: 0.0010\n",
      "Epoch 2/5\n",
      "1719/1719 [==============================] - 7s 4ms/step - loss: 0.4570 - accuracy: 0.8311 - val_loss: 0.3504 - val_accuracy: 0.8688 - lr: 0.0010\n",
      "Epoch 3/5\n",
      "1719/1719 [==============================] - 6s 3ms/step - loss: 0.4221 - accuracy: 0.8419 - val_loss: 0.3573 - val_accuracy: 0.8708 - lr: 0.0010\n",
      "Epoch 4/5\n",
      "1719/1719 [==============================] - 6s 4ms/step - loss: 0.4002 - accuracy: 0.8516 - val_loss: 0.3257 - val_accuracy: 0.8778 - lr: 0.0010\n",
      "Epoch 5/5\n",
      "1719/1719 [==============================] - 6s 3ms/step - loss: 0.3844 - accuracy: 0.8571 - val_loss: 0.3219 - val_accuracy: 0.8838 - lr: 0.0010\n"
     ]
    }
   ],
   "source": [
    "model_3 = keras.models.Sequential([\n",
    "    keras.layers.Flatten(input_shape=[28,28]),\n",
    "    keras.layers.Dropout(rate=2e-1),\n",
    "    keras.layers.Dense(300,activation=\"elu\",kernel_initializer=\"he_normal\"),\n",
    "    keras.layers.Dropout(rate=2e-1),\n",
    "    keras.layers.Dense(100,activation=\"elu\",kernel_initializer = \"he_normal\"),\n",
    "    keras.layers.Dropout(rate=2e-1),\n",
    "    keras.layers.Dense((y_train.max()+1),activation=\"softmax\",kernel_initializer=\"glorot_normal\")\n",
    "    \n",
    "])\n",
    "\n",
    "model_3.compile(loss=\"sparse_categorical_crossentropy\",optimizer=keras.optimizers.Nadam(learning_rate=1e-3,beta_1=0.9,beta_2=0.999),\n",
    "                metrics=[\"accuracy\"])\n",
    "n_epochs=5\n",
    "per_lr_sc = keras.callbacks.ReduceLROnPlateau(factor=5e-1, patience=5)\n",
    "tensorboard_cb = keras.callbacks.TensorBoard(run_logdir)\n",
    "check_point = keras.callbacks.ModelCheckpoint(\"droput_reguler.h5\",save_best_only=True)\n",
    "history_3 = model_3.fit(X_train,y_train,epochs=n_epochs,\n",
    "                        validation_data = [X_valid,y_valid],\n",
    "                        callbacks=[per_lr_sc,tensorboard_cb,check_point]) "
   ]
  },
  {
   "cell_type": "code",
   "execution_count": 27,
   "metadata": {},
   "outputs": [
    {
     "name": "stdout",
     "output_type": "stream",
     "text": [
      "The tensorboard extension is already loaded. To reload it, use:\n",
      "  %reload_ext tensorboard\n"
     ]
    },
    {
     "data": {
      "text/html": [
       "\n",
       "      <iframe id=\"tensorboard-frame-58d67b063c90d276\" width=\"100%\" height=\"800\" frameborder=\"0\">\n",
       "      </iframe>\n",
       "      <script>\n",
       "        (function() {\n",
       "          const frame = document.getElementById(\"tensorboard-frame-58d67b063c90d276\");\n",
       "          const url = new URL(\"/\", window.location);\n",
       "          const port = 6006;\n",
       "          if (port) {\n",
       "            url.port = port;\n",
       "          }\n",
       "          frame.src = url;\n",
       "        })();\n",
       "      </script>\n",
       "    "
      ],
      "text/plain": [
       "<IPython.core.display.HTML object>"
      ]
     },
     "metadata": {},
     "output_type": "display_data"
    }
   ],
   "source": [
    "%load_ext tensorboard\n",
    "%tensorboard --logdir=./my_logs --port=6006"
   ]
  },
  {
   "cell_type": "markdown",
   "metadata": {},
   "source": [
    "# Alpha droput \n",
    "for used to selu, if used regular dropout ill break the self normalized scaled. used aplha dropout to drop the neuron on layer have self normalized scaled"
   ]
  },
  {
   "cell_type": "code",
   "execution_count": 33,
   "metadata": {},
   "outputs": [
    {
     "name": "stdout",
     "output_type": "stream",
     "text": [
      "Epoch 1/20\n",
      "1719/1719 [==============================] - 5s 3ms/step - loss: 1.0660 - accuracy: 0.5978 - val_loss: 0.9327 - val_accuracy: 0.7048 - lr: 0.0100\n",
      "Epoch 2/20\n",
      "1719/1719 [==============================] - 4s 2ms/step - loss: 0.9167 - accuracy: 0.6557 - val_loss: 0.9712 - val_accuracy: 0.6942 - lr: 0.0100\n",
      "Epoch 3/20\n",
      "1719/1719 [==============================] - 4s 2ms/step - loss: 0.8867 - accuracy: 0.6668 - val_loss: 0.8777 - val_accuracy: 0.7406 - lr: 0.0100\n",
      "Epoch 4/20\n",
      "1719/1719 [==============================] - 4s 2ms/step - loss: 0.8732 - accuracy: 0.6733 - val_loss: 0.7488 - val_accuracy: 0.7398 - lr: 0.0100\n",
      "Epoch 5/20\n",
      "1719/1719 [==============================] - 4s 2ms/step - loss: 0.8508 - accuracy: 0.6810 - val_loss: 0.8044 - val_accuracy: 0.7350 - lr: 0.0100\n",
      "Epoch 6/20\n",
      "1719/1719 [==============================] - 4s 2ms/step - loss: 0.8421 - accuracy: 0.6824 - val_loss: 0.8752 - val_accuracy: 0.7176 - lr: 0.0100\n",
      "Epoch 7/20\n",
      "1719/1719 [==============================] - 4s 2ms/step - loss: 0.8344 - accuracy: 0.6869 - val_loss: 0.8098 - val_accuracy: 0.7306 - lr: 0.0100\n",
      "Epoch 8/20\n",
      "1719/1719 [==============================] - 4s 2ms/step - loss: 0.8278 - accuracy: 0.6881 - val_loss: 0.7369 - val_accuracy: 0.7598 - lr: 0.0100\n",
      "Epoch 9/20\n",
      "1719/1719 [==============================] - 4s 2ms/step - loss: 0.8193 - accuracy: 0.6887 - val_loss: 0.8048 - val_accuracy: 0.7480 - lr: 0.0100\n",
      "Epoch 10/20\n",
      "1719/1719 [==============================] - 4s 2ms/step - loss: 0.8117 - accuracy: 0.6916 - val_loss: 0.7930 - val_accuracy: 0.7364 - lr: 0.0100\n",
      "Epoch 11/20\n",
      "1719/1719 [==============================] - 4s 2ms/step - loss: 0.8072 - accuracy: 0.6961 - val_loss: 0.7755 - val_accuracy: 0.7460 - lr: 0.0100\n",
      "Epoch 12/20\n",
      "1719/1719 [==============================] - 4s 3ms/step - loss: 0.7989 - accuracy: 0.6977 - val_loss: 0.9014 - val_accuracy: 0.7390 - lr: 0.0100\n",
      "Epoch 13/20\n",
      "1719/1719 [==============================] - 4s 3ms/step - loss: 0.7954 - accuracy: 0.6993 - val_loss: 0.7367 - val_accuracy: 0.7670 - lr: 0.0100\n",
      "Epoch 14/20\n",
      "1719/1719 [==============================] - 4s 3ms/step - loss: 0.7948 - accuracy: 0.7003 - val_loss: 0.6721 - val_accuracy: 0.7816 - lr: 0.0100\n",
      "Epoch 15/20\n",
      "1719/1719 [==============================] - 4s 3ms/step - loss: 0.7876 - accuracy: 0.6997 - val_loss: 0.7675 - val_accuracy: 0.7630 - lr: 0.0100\n",
      "Epoch 16/20\n",
      "1719/1719 [==============================] - 4s 3ms/step - loss: 0.7904 - accuracy: 0.6992 - val_loss: 0.7037 - val_accuracy: 0.7692 - lr: 0.0100\n",
      "Epoch 17/20\n",
      "1719/1719 [==============================] - 4s 3ms/step - loss: 0.7807 - accuracy: 0.7025 - val_loss: 0.9184 - val_accuracy: 0.7248 - lr: 0.0100\n",
      "Epoch 18/20\n",
      "1719/1719 [==============================] - 4s 3ms/step - loss: 0.7774 - accuracy: 0.7045 - val_loss: 0.7893 - val_accuracy: 0.7650 - lr: 0.0100\n",
      "Epoch 19/20\n",
      "1719/1719 [==============================] - 4s 3ms/step - loss: 0.7809 - accuracy: 0.7029 - val_loss: 0.8356 - val_accuracy: 0.7488 - lr: 0.0100\n",
      "Epoch 20/20\n",
      "1719/1719 [==============================] - 4s 3ms/step - loss: 0.7536 - accuracy: 0.7129 - val_loss: 0.7188 - val_accuracy: 0.7586 - lr: 0.0050\n"
     ]
    },
    {
     "data": {
      "text/plain": [
       "<keras.callbacks.History at 0x23c59725ca0>"
      ]
     },
     "execution_count": 33,
     "metadata": {},
     "output_type": "execute_result"
    }
   ],
   "source": [
    "model_4 = keras.models.Sequential([\n",
    "    keras.layers.Flatten(input_shape=[28,28]),\n",
    "    keras.layers.AlphaDropout(rate=2e-1),\n",
    "    keras.layers.Dense(300,activation=\"selu\",kernel_initializer=\"lecun_normal\"),\n",
    "    keras.layers.AlphaDropout(rate=2e-1),\n",
    "    keras.layers.Dense(100,activation=\"selu\",kernel_initializer=\"lecun_normal\"),\n",
    "    keras.layers.AlphaDropout(rate=2e-1),\n",
    "    keras.layers.Dense((max(y_train)+1),activation=\"softmax\",kernel_initializer=\"glorot_normal\")\n",
    "    \n",
    "])\n",
    "optimizer_sgd= keras.optimizers.SGD(learning_rate=0.01, momentum=0.9, nesterov=True)\n",
    "optimizer_nadam=keras.optimizers.Nadam(learning_rate=1e-3,beta_1=0.9,beta_2=0.999,)\n",
    "model_4.compile(loss=\"sparse_categorical_crossentropy\",optimizer=optimizer_sgd,\n",
    "                metrics=[\"accuracy\"])\n",
    "per_lr_sc = keras.callbacks.ReduceLROnPlateau(factor=5e-1, patience=5)\n",
    "tensorboard_cb = keras.callbacks.TensorBoard(run_logdir)\n",
    "check_point = keras.callbacks.ModelCheckpoint(\"droput_alpha.h5\",save_best_only=True)\n",
    "model_4.fit(X_train,y_train,epochs=20,\n",
    "            validation_data =[X_valid,y_valid],\n",
    "            callbacks=[per_lr_sc,tensorboard_cb,check_point])"
   ]
  },
  {
   "cell_type": "code",
   "execution_count": 34,
   "metadata": {},
   "outputs": [
    {
     "name": "stdout",
     "output_type": "stream",
     "text": [
      "The tensorboard extension is already loaded. To reload it, use:\n",
      "  %reload_ext tensorboard\n"
     ]
    },
    {
     "data": {
      "text/plain": [
       "Reusing TensorBoard on port 6006 (pid 2340), started 0:41:23 ago. (Use '!kill 2340' to kill it.)"
      ]
     },
     "metadata": {},
     "output_type": "display_data"
    },
    {
     "data": {
      "text/html": [
       "\n",
       "      <iframe id=\"tensorboard-frame-955c0225de100f3a\" width=\"100%\" height=\"800\" frameborder=\"0\">\n",
       "      </iframe>\n",
       "      <script>\n",
       "        (function() {\n",
       "          const frame = document.getElementById(\"tensorboard-frame-955c0225de100f3a\");\n",
       "          const url = new URL(\"http://localhost\");\n",
       "          const port = 6006;\n",
       "          if (port) {\n",
       "            url.port = port;\n",
       "          }\n",
       "          frame.src = url;\n",
       "        })();\n",
       "      </script>\n",
       "    "
      ],
      "text/plain": [
       "<IPython.core.display.HTML object>"
      ]
     },
     "metadata": {},
     "output_type": "display_data"
    }
   ],
   "source": [
    "%load_ext tensorboard\n",
    "%tensorboard --logdir=./my_logs --port=6006"
   ]
  },
  {
   "cell_type": "code",
   "execution_count": null,
   "metadata": {},
   "outputs": [],
   "source": []
  }
 ],
 "metadata": {
  "kernelspec": {
   "display_name": "Python 3.9.9 ('env': venv)",
   "language": "python",
   "name": "python3"
  },
  "language_info": {
   "codemirror_mode": {
    "name": "ipython",
    "version": 3
   },
   "file_extension": ".py",
   "mimetype": "text/x-python",
   "name": "python",
   "nbconvert_exporter": "python",
   "pygments_lexer": "ipython3",
   "version": "3.9.9"
  },
  "orig_nbformat": 4,
  "vscode": {
   "interpreter": {
    "hash": "4ec5c1472ff0ffb40d4bfde534367b3b628558da3aa61cb988263ac340cc3560"
   }
  }
 },
 "nbformat": 4,
 "nbformat_minor": 2
}
