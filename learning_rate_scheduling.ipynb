{
 "cells": [
  {
   "cell_type": "code",
   "execution_count": 1,
   "metadata": {},
   "outputs": [],
   "source": [
    "# python required >= 3.5 version\n",
    "import sys\n",
    "assert sys.version_info >=(3,5)\n",
    "\n",
    "# Scikit-Learn ≥0.20 is required\n",
    "import sklearn\n",
    "assert sklearn.__version__ >= \"0.20\"\n",
    "\n",
    "# TensorFlow ≥2.0 is required\n",
    "import tensorflow as tf\n",
    "from tensorflow import keras\n",
    "assert tf.__version__ >= \"2.0\"\n",
    "\n",
    "%load_ext tensorboard\n",
    "\n",
    "import numpy as np\n",
    "import os\n",
    "import pandas as pd\n",
    "# make the output satable accros run\n",
    "np.random.seed(42)\n",
    "\n",
    "# To plot pretty figures\n",
    "%matplotlib inline\n",
    "import matplotlib as mpl\n",
    "import matplotlib.pyplot as plt\n",
    "mpl.rc('axes', labelsize=14)\n",
    "mpl.rc('xtick', labelsize=12)\n",
    "mpl.rc('ytick', labelsize=12)\n",
    "\n",
    "ROOT = \".\"\n",
    "chapter_id = \"DNN\"\n",
    "image_path = os.path.join(ROOT,\"images\",chapter_id)\n",
    "os.makedirs(image_path,exist_ok=True)\n",
    "\n",
    "def save_fig(fig_id,tigh_layout=True,fig_extension=\"png\",resolution=300):\n",
    "    path = os.path.join(image_path,fig_id + \".\" + fig_extension)\n",
    "    print(\"save figure \",fig_id)\n",
    "    if tigh_layout:\n",
    "        plt.tight_layout()\n",
    "    plt.savefig(path,format=fig_extension,dpi=resolution)\n"
   ]
  },
  {
   "cell_type": "code",
   "execution_count": 2,
   "metadata": {},
   "outputs": [
    {
     "data": {
      "text/html": [
       "<img src=\"images\\DNN\\Learning_rate scheduling.PNG\"/>"
      ],
      "text/plain": [
       "<IPython.core.display.Image object>"
      ]
     },
     "execution_count": 2,
     "metadata": {},
     "output_type": "execute_result"
    }
   ],
   "source": [
    "from IPython.display import Image\n",
    "Image(url=\"images\\DNN\\Learning_rate scheduling.PNG\")"
   ]
  },
  {
   "cell_type": "code",
   "execution_count": 3,
   "metadata": {},
   "outputs": [],
   "source": [
    "# get dataset fashion_mnist dataset\n",
    "(X_train_full,y_train_full),(X_test,y_test) = keras.datasets.fashion_mnist.load_data()\n",
    "# standarisasi train data\n",
    "X_train_full = X_train_full/255.0\n",
    "\n",
    "# split train data to train and validasi data\n",
    "X_valid,X_train = X_train_full[:5000], X_train_full[5000:]\n",
    "y_valid,y_train = y_train_full[:5000], y_train_full[5000:]"
   ]
  },
  {
   "cell_type": "markdown",
   "metadata": {},
   "source": [
    "# 1. Power scheduling"
   ]
  },
  {
   "cell_type": "markdown",
   "metadata": {},
   "source": [
    "```lr = lr0 / (1 + steps / s)**c```\n",
    "* Keras uses `c=1` and `s = 1 / decay`"
   ]
  },
  {
   "cell_type": "code",
   "execution_count": 4,
   "metadata": {},
   "outputs": [
    {
     "data": {
      "text/plain": [
       "['Constant',\n",
       " 'GlorotNormal',\n",
       " 'GlorotUniform',\n",
       " 'HeNormal',\n",
       " 'HeUniform',\n",
       " 'Identity',\n",
       " 'Initializer',\n",
       " 'LecunNormal',\n",
       " 'LecunUniform',\n",
       " 'Ones',\n",
       " 'Orthogonal',\n",
       " 'RandomNormal',\n",
       " 'RandomUniform',\n",
       " 'TruncatedNormal',\n",
       " 'VarianceScaling',\n",
       " 'Zeros',\n",
       " 'constant',\n",
       " 'deserialize',\n",
       " 'get',\n",
       " 'glorot_normal',\n",
       " 'glorot_uniform',\n",
       " 'he_normal',\n",
       " 'he_uniform',\n",
       " 'identity',\n",
       " 'lecun_normal',\n",
       " 'lecun_uniform',\n",
       " 'ones',\n",
       " 'orthogonal',\n",
       " 'random_normal',\n",
       " 'random_uniform',\n",
       " 'serialize',\n",
       " 'truncated_normal',\n",
       " 'variance_scaling',\n",
       " 'zeros']"
      ]
     },
     "execution_count": 4,
     "metadata": {},
     "output_type": "execute_result"
    }
   ],
   "source": [
    "[i for i in dir(keras.initializers) if not i.startswith(\"_\")]"
   ]
  },
  {
   "cell_type": "code",
   "execution_count": 5,
   "metadata": {},
   "outputs": [],
   "source": [
    "optimizer = keras.optimizers.SGD(learning_rate=0.01,decay=1e-4)\n",
    "model_1 = keras.Sequential([\n",
    "    keras.layers.Flatten(input_shape=[28,28]),\n",
    "    keras.layers.Dense(300,activation=\"selu\",kernel_initializer=\"lecun_normal\"),\n",
    "    keras.layers.Dense(100,activation=\"selu\",kernel_initializer=\"lecun_normal\"),\n",
    "    keras.layers.Dense(10,activation=\"softmax\")\n",
    "])\n",
    "model_1.compile(loss=\"sparse_categorical_crossentropy\",optimizer=optimizer,metrics=[\"accuracy\"])"
   ]
  },
  {
   "cell_type": "code",
   "execution_count": 6,
   "metadata": {},
   "outputs": [
    {
     "name": "stdout",
     "output_type": "stream",
     "text": [
      "Epoch 1/25\n",
      "1719/1719 [==============================] - 4s 2ms/step - loss: 0.5830 - accuracy: 0.7975 - val_loss: 0.4854 - val_accuracy: 0.8308\n",
      "Epoch 2/25\n",
      "1719/1719 [==============================] - 3s 2ms/step - loss: 0.4493 - accuracy: 0.8409 - val_loss: 0.4231 - val_accuracy: 0.8544\n",
      "Epoch 3/25\n",
      "1719/1719 [==============================] - 3s 2ms/step - loss: 0.4207 - accuracy: 0.8513 - val_loss: 0.4095 - val_accuracy: 0.8588\n",
      "Epoch 4/25\n",
      "1719/1719 [==============================] - 3s 2ms/step - loss: 0.4042 - accuracy: 0.8574 - val_loss: 0.4043 - val_accuracy: 0.8620\n",
      "Epoch 5/25\n",
      "1719/1719 [==============================] - 3s 2ms/step - loss: 0.3922 - accuracy: 0.8602 - val_loss: 0.3974 - val_accuracy: 0.8628\n",
      "Epoch 6/25\n",
      "1719/1719 [==============================] - 3s 2ms/step - loss: 0.3832 - accuracy: 0.8626 - val_loss: 0.3887 - val_accuracy: 0.8654\n",
      "Epoch 7/25\n",
      "1719/1719 [==============================] - 3s 2ms/step - loss: 0.3754 - accuracy: 0.8661 - val_loss: 0.3876 - val_accuracy: 0.8638\n",
      "Epoch 8/25\n",
      "1719/1719 [==============================] - 3s 2ms/step - loss: 0.3692 - accuracy: 0.8685 - val_loss: 0.3760 - val_accuracy: 0.8674\n",
      "Epoch 9/25\n",
      "1719/1719 [==============================] - 3s 2ms/step - loss: 0.3635 - accuracy: 0.8711 - val_loss: 0.3744 - val_accuracy: 0.8684\n",
      "Epoch 10/25\n",
      "1719/1719 [==============================] - 3s 2ms/step - loss: 0.3583 - accuracy: 0.8728 - val_loss: 0.3705 - val_accuracy: 0.8688\n",
      "Epoch 11/25\n",
      "1719/1719 [==============================] - 3s 2ms/step - loss: 0.3536 - accuracy: 0.8741 - val_loss: 0.3701 - val_accuracy: 0.8698\n",
      "Epoch 12/25\n",
      "1719/1719 [==============================] - 3s 2ms/step - loss: 0.3502 - accuracy: 0.8748 - val_loss: 0.3685 - val_accuracy: 0.8698\n",
      "Epoch 13/25\n",
      "1719/1719 [==============================] - 3s 2ms/step - loss: 0.3464 - accuracy: 0.8776 - val_loss: 0.3638 - val_accuracy: 0.8712\n",
      "Epoch 14/25\n",
      "1719/1719 [==============================] - 3s 2ms/step - loss: 0.3430 - accuracy: 0.8780 - val_loss: 0.3629 - val_accuracy: 0.8726\n",
      "Epoch 15/25\n",
      "1719/1719 [==============================] - 3s 2ms/step - loss: 0.3403 - accuracy: 0.8792 - val_loss: 0.3584 - val_accuracy: 0.8746\n",
      "Epoch 16/25\n",
      "1719/1719 [==============================] - 3s 2ms/step - loss: 0.3373 - accuracy: 0.8806 - val_loss: 0.3577 - val_accuracy: 0.8734\n",
      "Epoch 17/25\n",
      "1719/1719 [==============================] - 3s 2ms/step - loss: 0.3342 - accuracy: 0.8809 - val_loss: 0.3556 - val_accuracy: 0.8748\n",
      "Epoch 18/25\n",
      "1719/1719 [==============================] - 3s 2ms/step - loss: 0.3318 - accuracy: 0.8827 - val_loss: 0.3629 - val_accuracy: 0.8746\n",
      "Epoch 19/25\n",
      "1719/1719 [==============================] - 3s 2ms/step - loss: 0.3296 - accuracy: 0.8833 - val_loss: 0.3554 - val_accuracy: 0.8744\n",
      "Epoch 20/25\n",
      "1719/1719 [==============================] - 3s 2ms/step - loss: 0.3271 - accuracy: 0.8839 - val_loss: 0.3583 - val_accuracy: 0.8724\n",
      "Epoch 21/25\n",
      "1719/1719 [==============================] - 3s 2ms/step - loss: 0.3252 - accuracy: 0.8851 - val_loss: 0.3574 - val_accuracy: 0.8726\n",
      "Epoch 22/25\n",
      "1719/1719 [==============================] - 3s 2ms/step - loss: 0.3233 - accuracy: 0.8863 - val_loss: 0.3558 - val_accuracy: 0.8754\n",
      "Epoch 23/25\n",
      "1719/1719 [==============================] - 3s 2ms/step - loss: 0.3219 - accuracy: 0.8862 - val_loss: 0.3503 - val_accuracy: 0.8756\n",
      "Epoch 24/25\n",
      "1719/1719 [==============================] - 3s 2ms/step - loss: 0.3198 - accuracy: 0.8871 - val_loss: 0.3474 - val_accuracy: 0.8768\n",
      "Epoch 25/25\n",
      "1719/1719 [==============================] - 3s 2ms/step - loss: 0.3177 - accuracy: 0.8869 - val_loss: 0.3475 - val_accuracy: 0.8772\n"
     ]
    }
   ],
   "source": [
    "history_1 = model_1.fit(X_train,y_train,epochs=25,\n",
    "                        validation_data=[X_valid,y_valid])"
   ]
  },
  {
   "cell_type": "code",
   "execution_count": 7,
   "metadata": {},
   "outputs": [
    {
     "name": "stdout",
     "output_type": "stream",
     "text": [
      "save figure  power_scheduling\n"
     ]
    },
    {
     "data": {
      "image/png": "[encoded data removed]",
      "text/plain": [
       "<Figure size 432x288 with 1 Axes>"
      ]
     },
     "metadata": {
      "needs_background": "light"
     },
     "output_type": "display_data"
    }
   ],
   "source": [
    "import math\n",
    "n_epochs=25\n",
    "learning_rate = 1e-2\n",
    "decay = 1e-4\n",
    "batch_size= 32\n",
    "n_steps_per_epochs = math.ceil(len(X_train)/batch_size)#1719\n",
    "epochs = np.arange(n_epochs)\n",
    "lrs = learning_rate / (1+ decay * epochs * n_steps_per_epochs)\n",
    "\n",
    "plt.plot(epochs,lrs,\"o-\")\n",
    "plt.axis([0, n_epochs -1,   0, 1e-2])\n",
    "plt.xlabel(\"Epoch\")\n",
    "plt.ylabel(\"Learning Rate\")\n",
    "plt.title(\"Power Scheduling\", fontsize=14)\n",
    "plt.grid(True)\n",
    "save_fig(\"power_scheduling\")\n",
    "plt.show()"
   ]
  },
  {
   "cell_type": "code",
   "execution_count": 67,
   "metadata": {},
   "outputs": [],
   "source": [
    "def build_model(n_hidden=1, n_neurons=30, learning_rate=3e-3, input_shape=[8]):\n",
    "    optimizer =keras.optimizers.SGD(learning_rate=0.01,decay=1e-4)\n",
    "    model_1 = keras.Sequential([\n",
    "        keras.layers.Flatten(input_shape=[28,28]),\n",
    "        keras.layers.Dense(300,activation=\"selu\",kernel_initializer=\"lecun_normal\"),\n",
    "        keras.layers.Dense(100,activation=\"selu\",kernel_initializer=\"lecun_normal\"),\n",
    "        keras.layers.Dense(10,activation=\"softmax\")\n",
    "    ])\n",
    "    model_1.compile(loss=\"sparse_categorical_crossentropy\",optimizer=optimizer,metrics=[\"accuracy\"])\n",
    "    return model_1"
   ]
  },
  {
   "cell_type": "code",
   "execution_count": 85,
   "metadata": {},
   "outputs": [
    {
     "name": "stderr",
     "output_type": "stream",
     "text": [
      "C:\\Users\\User\\AppData\\Local\\Temp\\ipykernel_4684\\1813210725.py:1: DeprecationWarning: KerasClassifier is deprecated, use Sci-Keras (https://github.com/adriangb/scikeras) instead. See https://www.adriangb.com/scikeras/stable/migration.html for help migrating.\n",
      "  keras_class = keras.wrappers.scikit_learn.KerasClassifier(build_model)\n"
     ]
    }
   ],
   "source": [
    "keras_class = keras.wrappers.scikit_learn.KerasClassifier(build_model)\n",
    "from scipy.stats import reciprocal\n",
    "from sklearn.model_selection import RandomizedSearchCV"
   ]
  },
  {
   "cell_type": "code",
   "execution_count": 81,
   "metadata": {},
   "outputs": [
    {
     "name": "stdout",
     "output_type": "stream",
     "text": [
      "Fitting 2 folds for each of 5 candidates, totalling 10 fits\n",
      "Epoch 1/5\n",
      "860/860 [==============================] - 2s 2ms/step - loss: 0.6804 - accuracy: 0.7722 - val_loss: 0.5115 - val_accuracy: 0.8258\n",
      "Epoch 2/5\n",
      "860/860 [==============================] - 2s 2ms/step - loss: 0.4941 - accuracy: 0.8265 - val_loss: 0.4700 - val_accuracy: 0.8376\n",
      "Epoch 3/5\n",
      "860/860 [==============================] - 2s 2ms/step - loss: 0.4577 - accuracy: 0.8395 - val_loss: 0.4531 - val_accuracy: 0.8374\n",
      "Epoch 4/5\n",
      "860/860 [==============================] - 2s 2ms/step - loss: 0.4349 - accuracy: 0.8465 - val_loss: 0.4310 - val_accuracy: 0.8520\n",
      "Epoch 5/5\n",
      "860/860 [==============================] - 2s 2ms/step - loss: 0.4198 - accuracy: 0.8515 - val_loss: 0.4603 - val_accuracy: 0.8314\n",
      "860/860 [==============================] - 1s 1ms/step - loss: 0.4759 - accuracy: 0.8261\n",
      "[CV] END ...................learning_rate=0.0221261746609687; total time=   9.3s\n",
      "Epoch 1/5\n",
      "860/860 [==============================] - 2s 2ms/step - loss: 0.6757 - accuracy: 0.7729 - val_loss: 0.5049 - val_accuracy: 0.8304\n",
      "Epoch 2/5\n",
      "860/860 [==============================] - 2s 2ms/step - loss: 0.4900 - accuracy: 0.8274 - val_loss: 0.5315 - val_accuracy: 0.8094\n",
      "Epoch 3/5\n",
      "860/860 [==============================] - 2s 2ms/step - loss: 0.4526 - accuracy: 0.8373 - val_loss: 0.4494 - val_accuracy: 0.8456\n",
      "Epoch 4/5\n",
      "860/860 [==============================] - 2s 2ms/step - loss: 0.4306 - accuracy: 0.8473 - val_loss: 0.4528 - val_accuracy: 0.8414\n",
      "Epoch 5/5\n",
      "860/860 [==============================] - 1s 2ms/step - loss: 0.4165 - accuracy: 0.8503 - val_loss: 0.4170 - val_accuracy: 0.8554\n",
      "860/860 [==============================] - 1s 1ms/step - loss: 0.4258 - accuracy: 0.8513\n",
      "[CV] END ...................learning_rate=0.0221261746609687; total time=   9.2s\n",
      "Epoch 1/5\n",
      "860/860 [==============================] - 2s 2ms/step - loss: 0.6698 - accuracy: 0.7724 - val_loss: 0.5045 - val_accuracy: 0.8284\n",
      "Epoch 2/5\n",
      "860/860 [==============================] - 1s 2ms/step - loss: 0.4912 - accuracy: 0.8272 - val_loss: 0.4655 - val_accuracy: 0.8376\n",
      "Epoch 3/5\n",
      "860/860 [==============================] - 1s 2ms/step - loss: 0.4562 - accuracy: 0.8380 - val_loss: 0.4557 - val_accuracy: 0.8368\n",
      "Epoch 4/5\n",
      "860/860 [==============================] - 1s 2ms/step - loss: 0.4335 - accuracy: 0.8459 - val_loss: 0.4295 - val_accuracy: 0.8538\n",
      "Epoch 5/5\n",
      "860/860 [==============================] - 1s 2ms/step - loss: 0.4191 - accuracy: 0.8511 - val_loss: 0.4574 - val_accuracy: 0.8366\n",
      "860/860 [==============================] - 1s 1ms/step - loss: 0.4722 - accuracy: 0.8278\n",
      "[CV] END ................learning_rate=0.0017077606525578437; total time=   8.7s\n",
      "Epoch 1/5\n",
      "860/860 [==============================] - 2s 2ms/step - loss: 0.6756 - accuracy: 0.7738 - val_loss: 0.5130 - val_accuracy: 0.8214\n",
      "Epoch 2/5\n",
      "860/860 [==============================] - 1s 2ms/step - loss: 0.4899 - accuracy: 0.8268 - val_loss: 0.5288 - val_accuracy: 0.8066\n",
      "Epoch 3/5\n",
      "860/860 [==============================] - 2s 2ms/step - loss: 0.4519 - accuracy: 0.8386 - val_loss: 0.4535 - val_accuracy: 0.8402\n",
      "Epoch 4/5\n",
      "860/860 [==============================] - 1s 2ms/step - loss: 0.4302 - accuracy: 0.8477 - val_loss: 0.4514 - val_accuracy: 0.8456\n",
      "Epoch 5/5\n",
      "860/860 [==============================] - 1s 2ms/step - loss: 0.4162 - accuracy: 0.8506 - val_loss: 0.4184 - val_accuracy: 0.8592\n",
      "860/860 [==============================] - 1s 1ms/step - loss: 0.4276 - accuracy: 0.8511\n",
      "[CV] END ................learning_rate=0.0017077606525578437; total time=   9.0s\n",
      "Epoch 1/5\n",
      "860/860 [==============================] - 2s 2ms/step - loss: 0.6751 - accuracy: 0.7721 - val_loss: 0.5109 - val_accuracy: 0.8302\n",
      "Epoch 2/5\n",
      "860/860 [==============================] - 1s 2ms/step - loss: 0.4916 - accuracy: 0.8274 - val_loss: 0.4654 - val_accuracy: 0.8384\n",
      "Epoch 3/5\n",
      "860/860 [==============================] - 2s 2ms/step - loss: 0.4562 - accuracy: 0.8405 - val_loss: 0.4512 - val_accuracy: 0.8402\n",
      "Epoch 4/5\n",
      "860/860 [==============================] - 2s 2ms/step - loss: 0.4343 - accuracy: 0.8473 - val_loss: 0.4348 - val_accuracy: 0.8504\n",
      "Epoch 5/5\n",
      "860/860 [==============================] - 1s 2ms/step - loss: 0.4191 - accuracy: 0.8523 - val_loss: 0.4533 - val_accuracy: 0.8376\n",
      "860/860 [==============================] - 1s 1ms/step - loss: 0.4674 - accuracy: 0.8299\n",
      "[CV] END ................learning_rate=0.0021893213053047382; total time=   9.0s\n",
      "Epoch 1/5\n",
      "860/860 [==============================] - 2s 2ms/step - loss: 0.6780 - accuracy: 0.7683 - val_loss: 0.5099 - val_accuracy: 0.8240\n",
      "Epoch 2/5\n",
      "860/860 [==============================] - 2s 2ms/step - loss: 0.4918 - accuracy: 0.8252 - val_loss: 0.5052 - val_accuracy: 0.8176\n",
      "Epoch 3/5\n",
      "860/860 [==============================] - 1s 2ms/step - loss: 0.4538 - accuracy: 0.8391 - val_loss: 0.4528 - val_accuracy: 0.8438\n",
      "Epoch 4/5\n",
      "860/860 [==============================] - 1s 2ms/step - loss: 0.4316 - accuracy: 0.8459 - val_loss: 0.4608 - val_accuracy: 0.8436\n",
      "Epoch 5/5\n",
      "860/860 [==============================] - 1s 2ms/step - loss: 0.4177 - accuracy: 0.8509 - val_loss: 0.4173 - val_accuracy: 0.8562\n",
      "860/860 [==============================] - 1s 1ms/step - loss: 0.4261 - accuracy: 0.8520\n",
      "[CV] END ................learning_rate=0.0021893213053047382; total time=   9.0s\n",
      "Epoch 1/5\n",
      "860/860 [==============================] - 2s 2ms/step - loss: 0.6707 - accuracy: 0.7750 - val_loss: 0.5075 - val_accuracy: 0.8260\n",
      "Epoch 2/5\n",
      "860/860 [==============================] - 1s 2ms/step - loss: 0.4897 - accuracy: 0.8292 - val_loss: 0.4661 - val_accuracy: 0.8368\n",
      "Epoch 3/5\n",
      "860/860 [==============================] - 1s 2ms/step - loss: 0.4549 - accuracy: 0.8413 - val_loss: 0.4526 - val_accuracy: 0.8412\n",
      "Epoch 4/5\n",
      "860/860 [==============================] - 2s 2ms/step - loss: 0.4332 - accuracy: 0.8487 - val_loss: 0.4314 - val_accuracy: 0.8540\n",
      "Epoch 5/5\n",
      "860/860 [==============================] - 1s 2ms/step - loss: 0.4193 - accuracy: 0.8519 - val_loss: 0.4640 - val_accuracy: 0.8368\n",
      "860/860 [==============================] - 1s 1ms/step - loss: 0.4820 - accuracy: 0.8241\n",
      "[CV] END ................learning_rate=0.0005001887099598999; total time=   8.9s\n",
      "Epoch 1/5\n",
      "860/860 [==============================] - 2s 2ms/step - loss: 0.6883 - accuracy: 0.7643 - val_loss: 0.5159 - val_accuracy: 0.8202\n",
      "Epoch 2/5\n",
      "860/860 [==============================] - 1s 2ms/step - loss: 0.4897 - accuracy: 0.8268 - val_loss: 0.4977 - val_accuracy: 0.8210\n",
      "Epoch 3/5\n",
      "860/860 [==============================] - 1s 2ms/step - loss: 0.4506 - accuracy: 0.8391 - val_loss: 0.4574 - val_accuracy: 0.8378\n",
      "Epoch 4/5\n",
      "860/860 [==============================] - 1s 2ms/step - loss: 0.4291 - accuracy: 0.8475 - val_loss: 0.4534 - val_accuracy: 0.8414\n",
      "Epoch 5/5\n",
      "860/860 [==============================] - 1s 2ms/step - loss: 0.4148 - accuracy: 0.8515 - val_loss: 0.4161 - val_accuracy: 0.8600\n",
      "860/860 [==============================] - 1s 1ms/step - loss: 0.4247 - accuracy: 0.8544\n",
      "[CV] END ................learning_rate=0.0005001887099598999; total time=   8.8s\n",
      "Epoch 1/5\n",
      "860/860 [==============================] - 2s 2ms/step - loss: 0.6867 - accuracy: 0.7704 - val_loss: 0.5176 - val_accuracy: 0.8282\n",
      "Epoch 2/5\n",
      "860/860 [==============================] - 1s 2ms/step - loss: 0.4935 - accuracy: 0.8262 - val_loss: 0.4637 - val_accuracy: 0.8402\n",
      "Epoch 3/5\n",
      "860/860 [==============================] - 1s 2ms/step - loss: 0.4567 - accuracy: 0.8386 - val_loss: 0.4532 - val_accuracy: 0.8406\n",
      "Epoch 4/5\n",
      "860/860 [==============================] - 1s 2ms/step - loss: 0.4340 - accuracy: 0.8468 - val_loss: 0.4319 - val_accuracy: 0.8550\n",
      "Epoch 5/5\n",
      "860/860 [==============================] - 1s 2ms/step - loss: 0.4185 - accuracy: 0.8516 - val_loss: 0.4454 - val_accuracy: 0.8436\n",
      "860/860 [==============================] - 1s 1ms/step - loss: 0.4620 - accuracy: 0.8325\n",
      "[CV] END ................learning_rate=0.0044443216227393655; total time=   8.6s\n",
      "Epoch 1/5\n",
      "860/860 [==============================] - 2s 2ms/step - loss: 0.6787 - accuracy: 0.7669 - val_loss: 0.5134 - val_accuracy: 0.8220\n",
      "Epoch 2/5\n",
      "860/860 [==============================] - 1s 2ms/step - loss: 0.4925 - accuracy: 0.8256 - val_loss: 0.5133 - val_accuracy: 0.8134\n",
      "Epoch 3/5\n",
      "860/860 [==============================] - 2s 2ms/step - loss: 0.4536 - accuracy: 0.8370 - val_loss: 0.4477 - val_accuracy: 0.8470\n",
      "Epoch 4/5\n",
      "860/860 [==============================] - 2s 2ms/step - loss: 0.4312 - accuracy: 0.8456 - val_loss: 0.4600 - val_accuracy: 0.8386\n",
      "Epoch 5/5\n",
      "860/860 [==============================] - 1s 2ms/step - loss: 0.4172 - accuracy: 0.8489 - val_loss: 0.4180 - val_accuracy: 0.8582\n",
      "860/860 [==============================] - 1s 1ms/step - loss: 0.4246 - accuracy: 0.8516\n",
      "[CV] END ................learning_rate=0.0044443216227393655; total time=   9.0s\n",
      "Epoch 1/5\n",
      "1719/1719 [==============================] - 3s 2ms/step - loss: 0.5916 - accuracy: 0.7950 - val_loss: 0.4624 - val_accuracy: 0.8428\n",
      "Epoch 2/5\n",
      "1719/1719 [==============================] - 3s 2ms/step - loss: 0.4506 - accuracy: 0.8398 - val_loss: 0.4170 - val_accuracy: 0.8570\n",
      "Epoch 3/5\n",
      "1719/1719 [==============================] - 3s 2ms/step - loss: 0.4206 - accuracy: 0.8502 - val_loss: 0.4536 - val_accuracy: 0.8328\n",
      "Epoch 4/5\n",
      "1719/1719 [==============================] - 3s 2ms/step - loss: 0.4035 - accuracy: 0.8569 - val_loss: 0.3989 - val_accuracy: 0.8608\n",
      "Epoch 5/5\n",
      "1719/1719 [==============================] - 3s 2ms/step - loss: 0.3922 - accuracy: 0.8618 - val_loss: 0.3877 - val_accuracy: 0.8644\n"
     ]
    },
    {
     "data": {
      "text/html": [
       "<style>#sk-container-id-1 {color: black;background-color: white;}#sk-container-id-1 pre{padding: 0;}#sk-container-id-1 div.sk-toggleable {background-color: white;}#sk-container-id-1 label.sk-toggleable__label {cursor: pointer;display: block;width: 100%;margin-bottom: 0;padding: 0.3em;box-sizing: border-box;text-align: center;}#sk-container-id-1 label.sk-toggleable__label-arrow:before {content: \"▸\";float: left;margin-right: 0.25em;color: #696969;}#sk-container-id-1 label.sk-toggleable__label-arrow:hover:before {color: black;}#sk-container-id-1 div.sk-estimator:hover label.sk-toggleable__label-arrow:before {color: black;}#sk-container-id-1 div.sk-toggleable__content {max-height: 0;max-width: 0;overflow: hidden;text-align: left;background-color: #f0f8ff;}#sk-container-id-1 div.sk-toggleable__content pre {margin: 0.2em;color: black;border-radius: 0.25em;background-color: #f0f8ff;}#sk-container-id-1 input.sk-toggleable__control:checked~div.sk-toggleable__content {max-height: 200px;max-width: 100%;overflow: auto;}#sk-container-id-1 input.sk-toggleable__control:checked~label.sk-toggleable__label-arrow:before {content: \"▾\";}#sk-container-id-1 div.sk-estimator input.sk-toggleable__control:checked~label.sk-toggleable__label {background-color: #d4ebff;}#sk-container-id-1 div.sk-label input.sk-toggleable__control:checked~label.sk-toggleable__label {background-color: #d4ebff;}#sk-container-id-1 input.sk-hidden--visually {border: 0;clip: rect(1px 1px 1px 1px);clip: rect(1px, 1px, 1px, 1px);height: 1px;margin: -1px;overflow: hidden;padding: 0;position: absolute;width: 1px;}#sk-container-id-1 div.sk-estimator {font-family: monospace;background-color: #f0f8ff;border: 1px dotted black;border-radius: 0.25em;box-sizing: border-box;margin-bottom: 0.5em;}#sk-container-id-1 div.sk-estimator:hover {background-color: #d4ebff;}#sk-container-id-1 div.sk-parallel-item::after {content: \"\";width: 100%;border-bottom: 1px solid gray;flex-grow: 1;}#sk-container-id-1 div.sk-label:hover label.sk-toggleable__label {background-color: #d4ebff;}#sk-container-id-1 div.sk-serial::before {content: \"\";position: absolute;border-left: 1px solid gray;box-sizing: border-box;top: 0;bottom: 0;left: 50%;z-index: 0;}#sk-container-id-1 div.sk-serial {display: flex;flex-direction: column;align-items: center;background-color: white;padding-right: 0.2em;padding-left: 0.2em;position: relative;}#sk-container-id-1 div.sk-item {position: relative;z-index: 1;}#sk-container-id-1 div.sk-parallel {display: flex;align-items: stretch;justify-content: center;background-color: white;position: relative;}#sk-container-id-1 div.sk-item::before, #sk-container-id-1 div.sk-parallel-item::before {content: \"\";position: absolute;border-left: 1px solid gray;box-sizing: border-box;top: 0;bottom: 0;left: 50%;z-index: -1;}#sk-container-id-1 div.sk-parallel-item {display: flex;flex-direction: column;z-index: 1;position: relative;background-color: white;}#sk-container-id-1 div.sk-parallel-item:first-child::after {align-self: flex-end;width: 50%;}#sk-container-id-1 div.sk-parallel-item:last-child::after {align-self: flex-start;width: 50%;}#sk-container-id-1 div.sk-parallel-item:only-child::after {width: 0;}#sk-container-id-1 div.sk-dashed-wrapped {border: 1px dashed gray;margin: 0 0.4em 0.5em 0.4em;box-sizing: border-box;padding-bottom: 0.4em;background-color: white;}#sk-container-id-1 div.sk-label label {font-family: monospace;font-weight: bold;display: inline-block;line-height: 1.2em;}#sk-container-id-1 div.sk-label-container {text-align: center;}#sk-container-id-1 div.sk-container {/* jupyter's `normalize.less` sets `[hidden] { display: none; }` but bootstrap.min.css set `[hidden] { display: none !important; }` so we also need the `!important` here to be able to override the default hidden behavior on the sphinx rendered scikit-learn.org. See: https://github.com/scikit-learn/scikit-learn/issues/21755 */display: inline-block !important;position: relative;}#sk-container-id-1 div.sk-text-repr-fallback {display: none;}</style><div id=\"sk-container-id-1\" class=\"sk-top-container\"><div class=\"sk-text-repr-fallback\"><pre>RandomizedSearchCV(cv=2,\n",
       "                   estimator=&lt;keras.wrappers.scikit_learn.KerasClassifier object at 0x0000012DF997A100&gt;,\n",
       "                   n_iter=5,\n",
       "                   param_distributions={&#x27;learning_rate&#x27;: [0.0001286104713522462,\n",
       "                                                          0.051006596388733574,\n",
       "                                                          0.00016592715023787497,\n",
       "                                                          0.048144477286264135,\n",
       "                                                          0.00048361274904599284,\n",
       "                                                          0.01659790981357365,\n",
       "                                                          0.0008495711319180562,\n",
       "                                                          0.03769259836147602,\n",
       "                                                          0.012628873011822235,\n",
       "                                                          0.00...\n",
       "                                                          0.00010672337919733955,\n",
       "                                                          0.026691864995944538,\n",
       "                                                          0.0006000662711678434,\n",
       "                                                          0.008098433179944573,\n",
       "                                                          0.002304853145016016,\n",
       "                                                          0.03893050555713677,\n",
       "                                                          0.05634862711519815,\n",
       "                                                          0.09781898182452439,\n",
       "                                                          0.0002891028729120202,\n",
       "                                                          0.0388053977654192,\n",
       "                                                          0.0006281511080312834,\n",
       "                                                          0.005921716674861128,\n",
       "                                                          0.003290928915728982,\n",
       "                                                          0.00011323075281106252,\n",
       "                                                          0.06285123846038695,\n",
       "                                                          0.0001717833886248208, ...]},\n",
       "                   verbose=2)</pre><b>In a Jupyter environment, please rerun this cell to show the HTML representation or trust the notebook. <br />On GitHub, the HTML representation is unable to render, please try loading this page with nbviewer.org.</b></div><div class=\"sk-container\" hidden><div class=\"sk-item sk-dashed-wrapped\"><div class=\"sk-label-container\"><div class=\"sk-label sk-toggleable\"><input class=\"sk-toggleable__control sk-hidden--visually\" id=\"sk-estimator-id-1\" type=\"checkbox\" ><label for=\"sk-estimator-id-1\" class=\"sk-toggleable__label sk-toggleable__label-arrow\">RandomizedSearchCV</label><div class=\"sk-toggleable__content\"><pre>RandomizedSearchCV(cv=2,\n",
       "                   estimator=&lt;keras.wrappers.scikit_learn.KerasClassifier object at 0x0000012DF997A100&gt;,\n",
       "                   n_iter=5,\n",
       "                   param_distributions={&#x27;learning_rate&#x27;: [0.0001286104713522462,\n",
       "                                                          0.051006596388733574,\n",
       "                                                          0.00016592715023787497,\n",
       "                                                          0.048144477286264135,\n",
       "                                                          0.00048361274904599284,\n",
       "                                                          0.01659790981357365,\n",
       "                                                          0.0008495711319180562,\n",
       "                                                          0.03769259836147602,\n",
       "                                                          0.012628873011822235,\n",
       "                                                          0.00...\n",
       "                                                          0.00010672337919733955,\n",
       "                                                          0.026691864995944538,\n",
       "                                                          0.0006000662711678434,\n",
       "                                                          0.008098433179944573,\n",
       "                                                          0.002304853145016016,\n",
       "                                                          0.03893050555713677,\n",
       "                                                          0.05634862711519815,\n",
       "                                                          0.09781898182452439,\n",
       "                                                          0.0002891028729120202,\n",
       "                                                          0.0388053977654192,\n",
       "                                                          0.0006281511080312834,\n",
       "                                                          0.005921716674861128,\n",
       "                                                          0.003290928915728982,\n",
       "                                                          0.00011323075281106252,\n",
       "                                                          0.06285123846038695,\n",
       "                                                          0.0001717833886248208, ...]},\n",
       "                   verbose=2)</pre></div></div></div><div class=\"sk-parallel\"><div class=\"sk-parallel-item\"><div class=\"sk-item\"><div class=\"sk-label-container\"><div class=\"sk-label sk-toggleable\"><input class=\"sk-toggleable__control sk-hidden--visually\" id=\"sk-estimator-id-2\" type=\"checkbox\" ><label for=\"sk-estimator-id-2\" class=\"sk-toggleable__label sk-toggleable__label-arrow\">estimator: KerasClassifier</label><div class=\"sk-toggleable__content\"><pre>&lt;keras.wrappers.scikit_learn.KerasClassifier object at 0x0000012DF997A100&gt;</pre></div></div></div><div class=\"sk-serial\"><div class=\"sk-item\"><div class=\"sk-estimator sk-toggleable\"><input class=\"sk-toggleable__control sk-hidden--visually\" id=\"sk-estimator-id-3\" type=\"checkbox\" ><label for=\"sk-estimator-id-3\" class=\"sk-toggleable__label sk-toggleable__label-arrow\">KerasClassifier</label><div class=\"sk-toggleable__content\"><pre>&lt;keras.wrappers.scikit_learn.KerasClassifier object at 0x0000012DF997A100&gt;</pre></div></div></div></div></div></div></div></div></div></div>"
      ],
      "text/plain": [
       "RandomizedSearchCV(cv=2,\n",
       "                   estimator=<keras.wrappers.scikit_learn.KerasClassifier object at 0x0000012DF997A100>,\n",
       "                   n_iter=5,\n",
       "                   param_distributions={'learning_rate': [0.0001286104713522462,\n",
       "                                                          0.051006596388733574,\n",
       "                                                          0.00016592715023787497,\n",
       "                                                          0.048144477286264135,\n",
       "                                                          0.00048361274904599284,\n",
       "                                                          0.01659790981357365,\n",
       "                                                          0.0008495711319180562,\n",
       "                                                          0.03769259836147602,\n",
       "                                                          0.012628873011822235,\n",
       "                                                          0.00...\n",
       "                                                          0.00010672337919733955,\n",
       "                                                          0.026691864995944538,\n",
       "                                                          0.0006000662711678434,\n",
       "                                                          0.008098433179944573,\n",
       "                                                          0.002304853145016016,\n",
       "                                                          0.03893050555713677,\n",
       "                                                          0.05634862711519815,\n",
       "                                                          0.09781898182452439,\n",
       "                                                          0.0002891028729120202,\n",
       "                                                          0.0388053977654192,\n",
       "                                                          0.0006281511080312834,\n",
       "                                                          0.005921716674861128,\n",
       "                                                          0.003290928915728982,\n",
       "                                                          0.00011323075281106252,\n",
       "                                                          0.06285123846038695,\n",
       "                                                          0.0001717833886248208, ...]},\n",
       "                   verbose=2)"
      ]
     },
     "execution_count": 81,
     "metadata": {},
     "output_type": "execute_result"
    }
   ],
   "source": [
    "param_distribs = {\n",
    "    \"learning_rate\": reciprocal(1e-4,1e-1).rvs(1000).tolist()\n",
    "}\n",
    "rnd_search_cv_1 = RandomizedSearchCV(keras_class,param_distribs,n_iter=5,cv=2,verbose=2)\n",
    "rnd_search_cv_1.fit(X_train, y_train, epochs=5,\n",
    "                  validation_data=(X_valid, y_valid),\n",
    "                  callbacks=[keras.callbacks.EarlyStopping(patience=2)])"
   ]
  },
  {
   "cell_type": "code",
   "execution_count": 82,
   "metadata": {},
   "outputs": [
    {
     "data": {
      "text/plain": [
       "{'learning_rate': 0.0044443216227393655}"
      ]
     },
     "execution_count": 82,
     "metadata": {},
     "output_type": "execute_result"
    }
   ],
   "source": [
    "rnd_search_cv_1.best_params_ # 4e-3"
   ]
  },
  {
   "cell_type": "code",
   "execution_count": 83,
   "metadata": {},
   "outputs": [
    {
     "data": {
      "text/plain": [
       "0.842018187046051"
      ]
     },
     "execution_count": 83,
     "metadata": {},
     "output_type": "execute_result"
    }
   ],
   "source": [
    "rnd_search_cv_1.best_score_"
   ]
  },
  {
   "cell_type": "code",
   "execution_count": 86,
   "metadata": {},
   "outputs": [],
   "source": [
    "rnd_search_cv_1.best_estimator_.model.save(\"rnd_search_power_scheduling.h5\")"
   ]
  },
  {
   "cell_type": "markdown",
   "metadata": {},
   "source": [
    "# 2. Exponesial Scheduling"
   ]
  },
  {
   "cell_type": "markdown",
   "metadata": {},
   "source": [
    "```lr = lr0 * 0.1**(epoch / s)```"
   ]
  },
  {
   "cell_type": "code",
   "execution_count": 8,
   "metadata": {},
   "outputs": [],
   "source": [
    "# if setup initial learning rate and steps s rate static\n",
    "def exponential_decay_fn(epoch):\n",
    "    return 1e-2 * 1e-1 **(epoch/20)"
   ]
  },
  {
   "cell_type": "code",
   "execution_count": 9,
   "metadata": {},
   "outputs": [],
   "source": [
    "# if want more dynamic allocation hyperparameter\n",
    "def exponential_decay(lr0,s):\n",
    "    def exponential_decay_fn(epoch):\n",
    "        return lr0 * 1e-1 **(epoch/s)\n",
    "    return exponential_decay_fn"
   ]
  },
  {
   "cell_type": "code",
   "execution_count": 10,
   "metadata": {},
   "outputs": [],
   "source": [
    "exponential_decay_fn = exponential_decay(lr0=1e-2,s=20)\n",
    "model_2 = keras.models.Sequential([\n",
    "    keras.layers.Flatten(input_shape=[28, 28]),\n",
    "    keras.layers.Dense(300, activation=\"selu\", kernel_initializer=\"lecun_normal\"),\n",
    "    keras.layers.Dense(100, activation=\"selu\", kernel_initializer=\"lecun_normal\"),\n",
    "    keras.layers.Dense(10, activation=\"softmax\")\n",
    "])\n",
    "model_2.compile(loss=\"sparse_categorical_crossentropy\", optimizer=\"nadam\", metrics=[\"accuracy\"])\n",
    "n_epochs = 25"
   ]
  },
  {
   "cell_type": "code",
   "execution_count": 11,
   "metadata": {},
   "outputs": [
    {
     "name": "stdout",
     "output_type": "stream",
     "text": [
      "Epoch 1/25\n",
      "1719/1719 [==============================] - 5s 3ms/step - loss: 0.7406 - accuracy: 0.7604 - val_loss: 0.7018 - val_accuracy: 0.7480 - lr: 0.0100\n",
      "Epoch 2/25\n",
      "1719/1719 [==============================] - 4s 3ms/step - loss: 0.5163 - accuracy: 0.8261 - val_loss: 0.7693 - val_accuracy: 0.7482 - lr: 0.0089\n",
      "Epoch 3/25\n",
      "1719/1719 [==============================] - 4s 3ms/step - loss: 0.4505 - accuracy: 0.8459 - val_loss: 0.5310 - val_accuracy: 0.8390 - lr: 0.0079\n",
      "Epoch 4/25\n",
      "1719/1719 [==============================] - 4s 3ms/step - loss: 0.4125 - accuracy: 0.8583 - val_loss: 0.3723 - val_accuracy: 0.8756 - lr: 0.0071\n",
      "Epoch 5/25\n",
      "1719/1719 [==============================] - 4s 3ms/step - loss: 0.3720 - accuracy: 0.8718 - val_loss: 0.3517 - val_accuracy: 0.8816 - lr: 0.0063\n",
      "Epoch 6/25\n",
      "1719/1719 [==============================] - 4s 3ms/step - loss: 0.3532 - accuracy: 0.8776 - val_loss: 0.4561 - val_accuracy: 0.8682 - lr: 0.0056\n",
      "Epoch 7/25\n",
      "1719/1719 [==============================] - 4s 3ms/step - loss: 0.3274 - accuracy: 0.8862 - val_loss: 0.3895 - val_accuracy: 0.8752 - lr: 0.0050\n",
      "Epoch 8/25\n",
      "1719/1719 [==============================] - 4s 3ms/step - loss: 0.3090 - accuracy: 0.8915 - val_loss: 0.3860 - val_accuracy: 0.8778 - lr: 0.0045\n",
      "Epoch 9/25\n",
      "1719/1719 [==============================] - 4s 3ms/step - loss: 0.2958 - accuracy: 0.8959 - val_loss: 0.3529 - val_accuracy: 0.8858 - lr: 0.0040\n",
      "Epoch 10/25\n",
      "1719/1719 [==============================] - 4s 3ms/step - loss: 0.2771 - accuracy: 0.9006 - val_loss: 0.3475 - val_accuracy: 0.8898 - lr: 0.0035\n",
      "Epoch 11/25\n",
      "1719/1719 [==============================] - 4s 3ms/step - loss: 0.2655 - accuracy: 0.9051 - val_loss: 0.3624 - val_accuracy: 0.8856 - lr: 0.0032\n",
      "Epoch 12/25\n",
      "1719/1719 [==============================] - 4s 3ms/step - loss: 0.2539 - accuracy: 0.9078 - val_loss: 0.3449 - val_accuracy: 0.8946 - lr: 0.0028\n",
      "Epoch 13/25\n",
      "1719/1719 [==============================] - 4s 3ms/step - loss: 0.2415 - accuracy: 0.9124 - val_loss: 0.3571 - val_accuracy: 0.8922 - lr: 0.0025\n",
      "Epoch 14/25\n",
      "1719/1719 [==============================] - 4s 3ms/step - loss: 0.2299 - accuracy: 0.9168 - val_loss: 0.4051 - val_accuracy: 0.8744 - lr: 0.0022\n",
      "Epoch 15/25\n",
      "1719/1719 [==============================] - 4s 3ms/step - loss: 0.2204 - accuracy: 0.9192 - val_loss: 0.3625 - val_accuracy: 0.8946 - lr: 0.0020\n",
      "Epoch 16/25\n",
      "1719/1719 [==============================] - 4s 3ms/step - loss: 0.2089 - accuracy: 0.9229 - val_loss: 0.3509 - val_accuracy: 0.8912 - lr: 0.0018\n",
      "Epoch 17/25\n",
      "1719/1719 [==============================] - 4s 3ms/step - loss: 0.1994 - accuracy: 0.9270 - val_loss: 0.3822 - val_accuracy: 0.8970 - lr: 0.0016\n",
      "Epoch 18/25\n",
      "1719/1719 [==============================] - 4s 3ms/step - loss: 0.1913 - accuracy: 0.9301 - val_loss: 0.3484 - val_accuracy: 0.8962 - lr: 0.0014\n",
      "Epoch 19/25\n",
      "1719/1719 [==============================] - 4s 3ms/step - loss: 0.1829 - accuracy: 0.9317 - val_loss: 0.4050 - val_accuracy: 0.8928 - lr: 0.0013\n",
      "Epoch 20/25\n",
      "1719/1719 [==============================] - 4s 3ms/step - loss: 0.1757 - accuracy: 0.9356 - val_loss: 0.3699 - val_accuracy: 0.8980 - lr: 0.0011\n",
      "Epoch 21/25\n",
      "1719/1719 [==============================] - 4s 3ms/step - loss: 0.1690 - accuracy: 0.9385 - val_loss: 0.3839 - val_accuracy: 0.8936 - lr: 0.0010\n",
      "Epoch 22/25\n",
      "1719/1719 [==============================] - 4s 3ms/step - loss: 0.1635 - accuracy: 0.9403 - val_loss: 0.3769 - val_accuracy: 0.9004 - lr: 8.9125e-04\n",
      "Epoch 23/25\n",
      "1719/1719 [==============================] - 4s 3ms/step - loss: 0.1573 - accuracy: 0.9433 - val_loss: 0.3934 - val_accuracy: 0.9010 - lr: 7.9433e-04\n",
      "Epoch 24/25\n",
      "1719/1719 [==============================] - 4s 3ms/step - loss: 0.1521 - accuracy: 0.9448 - val_loss: 0.3979 - val_accuracy: 0.9016 - lr: 7.0795e-04\n",
      "Epoch 25/25\n",
      "1719/1719 [==============================] - 4s 3ms/step - loss: 0.1472 - accuracy: 0.9473 - val_loss: 0.3905 - val_accuracy: 0.8980 - lr: 6.3096e-04\n"
     ]
    }
   ],
   "source": [
    "lr_scheduler_exponensial = keras.callbacks.LearningRateScheduler(exponential_decay_fn)\n",
    "history_2 = model_2.fit(X_train, y_train, epochs = n_epochs,\n",
    "                        validation_data = [X_valid,y_valid],\n",
    "                        callbacks=[lr_scheduler_exponensial])"
   ]
  },
  {
   "cell_type": "code",
   "execution_count": 12,
   "metadata": {},
   "outputs": [
    {
     "data": {
      "text/plain": [
       "dict_keys(['loss', 'accuracy', 'val_loss', 'val_accuracy', 'lr'])"
      ]
     },
     "execution_count": 12,
     "metadata": {},
     "output_type": "execute_result"
    }
   ],
   "source": [
    "history_2.history.keys()"
   ]
  },
  {
   "cell_type": "code",
   "execution_count": 13,
   "metadata": {},
   "outputs": [
    {
     "name": "stdout",
     "output_type": "stream",
     "text": [
      "save figure  Exponential Scheduling\n"
     ]
    },
    {
     "data": {
      "image/png": "[encoded data removed]",
      "text/plain": [
       "<Figure size 432x288 with 1 Axes>"
      ]
     },
     "metadata": {
      "needs_background": "light"
     },
     "output_type": "display_data"
    }
   ],
   "source": [
    "# exponensial scheduling per epochs\n",
    "plt.plot(history_2.epoch, history_2.history[\"lr\"],\"o-\")\n",
    "plt.axis([0,n_epochs-1,  0,0.011])\n",
    "plt.xlabel(\"Epoch\")\n",
    "plt.ylabel(\"Learning Rate\")\n",
    "plt.title(\"Exponential Scheduling\", fontsize=14)\n",
    "plt.grid(True)\n",
    "save_fig(\"Exponential Scheduling\")\n",
    "plt.show()"
   ]
  },
  {
   "cell_type": "code",
   "execution_count": 14,
   "metadata": {},
   "outputs": [],
   "source": [
    "# exponensial scheduling per iteration ( per batch)\n",
    "def exponential_decay_fn(epoch, lr):\n",
    "    return lr * 0.1 ** (1/20)"
   ]
  },
  {
   "cell_type": "code",
   "execution_count": 15,
   "metadata": {},
   "outputs": [],
   "source": [
    "K = keras.backend\n",
    "\n",
    "class ExponensialDecay(keras.callbacks.Callback):\n",
    "    def __init__(self,s=4e4):\n",
    "        super().__init__()\n",
    "        self.s = s\n",
    "    \n",
    "    def on_batch_begin(self,batch,logs=None):\n",
    "        # Note : the batch argument is reset at each epoch\n",
    "        lr = K.get_value(self.model.optimizer.learning_rate)\n",
    "        K.set_value(self.model.optimizer.learning_rate, lr *0.1**(1/self.s))\n",
    "    \n",
    "    def on_epoch_end(self,epoch,logs=None):\n",
    "        logs = logs or []\n",
    "        logs[\"lr\"] = K.get_value(self.model.optimizer.learning_rate)\n",
    "        "
   ]
  },
  {
   "cell_type": "code",
   "execution_count": 16,
   "metadata": {},
   "outputs": [
    {
     "name": "stdout",
     "output_type": "stream",
     "text": [
      "Epoch 1/25\n",
      "1719/1719 [==============================] - 6s 3ms/step - loss: 0.7135 - accuracy: 0.7661 - val_loss: 0.4946 - val_accuracy: 0.8270 - lr: 0.0089\n",
      "Epoch 2/25\n",
      "1719/1719 [==============================] - 5s 3ms/step - loss: 0.5042 - accuracy: 0.8285 - val_loss: 0.4673 - val_accuracy: 0.8426 - lr: 0.0079\n",
      "Epoch 3/25\n",
      "1719/1719 [==============================] - 5s 3ms/step - loss: 0.4479 - accuracy: 0.8467 - val_loss: 0.4579 - val_accuracy: 0.8514 - lr: 0.0071\n",
      "Epoch 4/25\n",
      "1719/1719 [==============================] - 5s 3ms/step - loss: 0.4009 - accuracy: 0.8622 - val_loss: 0.4658 - val_accuracy: 0.8522 - lr: 0.0063\n",
      "Epoch 5/25\n",
      "1719/1719 [==============================] - 5s 3ms/step - loss: 0.3745 - accuracy: 0.8706 - val_loss: 0.4135 - val_accuracy: 0.8672 - lr: 0.0056\n",
      "Epoch 6/25\n",
      "1719/1719 [==============================] - 5s 3ms/step - loss: 0.3445 - accuracy: 0.8807 - val_loss: 0.4020 - val_accuracy: 0.8654 - lr: 0.0050\n",
      "Epoch 7/25\n",
      "1719/1719 [==============================] - 5s 3ms/step - loss: 0.3326 - accuracy: 0.8837 - val_loss: 0.3679 - val_accuracy: 0.8760 - lr: 0.0045\n",
      "Epoch 8/25\n",
      "1719/1719 [==============================] - 5s 3ms/step - loss: 0.3077 - accuracy: 0.8909 - val_loss: 0.4165 - val_accuracy: 0.8608 - lr: 0.0040\n",
      "Epoch 9/25\n",
      "1719/1719 [==============================] - 5s 3ms/step - loss: 0.2945 - accuracy: 0.8947 - val_loss: 0.3930 - val_accuracy: 0.8790 - lr: 0.0035\n",
      "Epoch 10/25\n",
      "1719/1719 [==============================] - 5s 3ms/step - loss: 0.2753 - accuracy: 0.9007 - val_loss: 0.3538 - val_accuracy: 0.8850 - lr: 0.0032\n",
      "Epoch 11/25\n",
      "1719/1719 [==============================] - 5s 3ms/step - loss: 0.2629 - accuracy: 0.9050 - val_loss: 0.4013 - val_accuracy: 0.8738 - lr: 0.0028\n",
      "Epoch 12/25\n",
      "1719/1719 [==============================] - 5s 3ms/step - loss: 0.2449 - accuracy: 0.9103 - val_loss: 0.3606 - val_accuracy: 0.8880 - lr: 0.0025\n",
      "Epoch 13/25\n",
      "1719/1719 [==============================] - 5s 3ms/step - loss: 0.2377 - accuracy: 0.9133 - val_loss: 0.3700 - val_accuracy: 0.8950 - lr: 0.0022\n",
      "Epoch 14/25\n",
      "1719/1719 [==============================] - 5s 3ms/step - loss: 0.2235 - accuracy: 0.9173 - val_loss: 0.3758 - val_accuracy: 0.8874 - lr: 0.0020\n",
      "Epoch 15/25\n",
      "1719/1719 [==============================] - 5s 3ms/step - loss: 0.2144 - accuracy: 0.9197 - val_loss: 0.3664 - val_accuracy: 0.8878 - lr: 0.0018\n",
      "Epoch 16/25\n",
      "1719/1719 [==============================] - 5s 3ms/step - loss: 0.2050 - accuracy: 0.9241 - val_loss: 0.3664 - val_accuracy: 0.8906 - lr: 0.0016\n",
      "Epoch 17/25\n",
      "1719/1719 [==============================] - 5s 3ms/step - loss: 0.1943 - accuracy: 0.9268 - val_loss: 0.3678 - val_accuracy: 0.8920 - lr: 0.0014\n",
      "Epoch 18/25\n",
      "1719/1719 [==============================] - 5s 3ms/step - loss: 0.1866 - accuracy: 0.9304 - val_loss: 0.3491 - val_accuracy: 0.8968 - lr: 0.0013\n",
      "Epoch 19/25\n",
      "1719/1719 [==============================] - 5s 3ms/step - loss: 0.1775 - accuracy: 0.9332 - val_loss: 0.3813 - val_accuracy: 0.8908 - lr: 0.0011\n",
      "Epoch 20/25\n",
      "1719/1719 [==============================] - 5s 3ms/step - loss: 0.1704 - accuracy: 0.9359 - val_loss: 0.3761 - val_accuracy: 0.8946 - lr: 9.9967e-04\n",
      "Epoch 21/25\n",
      "1719/1719 [==============================] - 5s 3ms/step - loss: 0.1622 - accuracy: 0.9389 - val_loss: 0.3918 - val_accuracy: 0.8954 - lr: 8.9094e-04\n",
      "Epoch 22/25\n",
      "1719/1719 [==============================] - 5s 3ms/step - loss: 0.1572 - accuracy: 0.9417 - val_loss: 0.3890 - val_accuracy: 0.8946 - lr: 7.9404e-04\n",
      "Epoch 23/25\n",
      "1719/1719 [==============================] - 5s 3ms/step - loss: 0.1510 - accuracy: 0.9436 - val_loss: 0.3883 - val_accuracy: 0.8964 - lr: 7.0767e-04\n",
      "Epoch 24/25\n",
      "1719/1719 [==============================] - 5s 3ms/step - loss: 0.1459 - accuracy: 0.9460 - val_loss: 0.3936 - val_accuracy: 0.8976 - lr: 6.3071e-04\n",
      "Epoch 25/25\n",
      "1719/1719 [==============================] - 5s 3ms/step - loss: 0.1403 - accuracy: 0.9485 - val_loss: 0.4080 - val_accuracy: 0.8894 - lr: 5.6211e-04\n"
     ]
    }
   ],
   "source": [
    "model_3 = keras.models.Sequential([\n",
    "    keras.layers.Flatten(input_shape=[28, 28]),\n",
    "    keras.layers.Dense(300, activation=\"selu\", kernel_initializer=\"lecun_normal\"),\n",
    "    keras.layers.Dense(100, activation=\"selu\", kernel_initializer=\"lecun_normal\"),\n",
    "    keras.layers.Dense(10, activation=\"softmax\")\n",
    "])\n",
    "lr0 = 1e-2\n",
    "optimizer = keras.optimizers.Nadam(learning_rate=lr0,beta_1=0.9,beta_2=0.999)\n",
    "model_3.compile(loss=\"sparse_categorical_crossentropy\",optimizer=optimizer,\n",
    "                metrics = [\"accuracy\"])\n",
    "n_epochs = 25\n",
    "\n",
    "s = 20 * len(X_train) //32 #=> 34375 number setiap steps pada 20 epochs(batch size =32) floor\n",
    "exp_decay = ExponensialDecay(s)\n",
    "history_3 = model_3.fit(X_train,y_train,epochs=n_epochs,\n",
    "                        validation_data = [X_valid,y_valid],\n",
    "                        callbacks=[exp_decay])"
   ]
  },
  {
   "cell_type": "code",
   "execution_count": 17,
   "metadata": {},
   "outputs": [],
   "source": [
    "# visualize\n",
    "n_steps = n_epochs * len(X_train) //32 # 42968\n",
    "steps = np.arange(n_steps)\n",
    "lrs = lr0 * 0.1 **(steps / s)"
   ]
  },
  {
   "cell_type": "code",
   "execution_count": 18,
   "metadata": {},
   "outputs": [
    {
     "name": "stdout",
     "output_type": "stream",
     "text": [
      "save figure  Exponential Scheduling (per batch)\n"
     ]
    },
    {
     "data": {
      "image/png": "[encoded data removed]",
      "text/plain": [
       "<Figure size 432x288 with 1 Axes>"
      ]
     },
     "metadata": {
      "needs_background": "light"
     },
     "output_type": "display_data"
    }
   ],
   "source": [
    "plt.plot(steps, lrs, \"-\", linewidth=2)\n",
    "plt.axis([0, n_steps - 1, 0, lr0 * 1.1])\n",
    "plt.xlabel(\"Batch\")\n",
    "plt.ylabel(\"Learning Rate\")\n",
    "plt.title(\"Exponential Scheduling (per batch)\", fontsize=14)\n",
    "plt.grid(True)\n",
    "save_fig(\"Exponential Scheduling (per batch)\")\n",
    "plt.show()"
   ]
  },
  {
   "cell_type": "markdown",
   "metadata": {},
   "source": [
    "# 3.Piecewise Constant Scheduling\n",
    "Used the diferent learning on the initial learning rate and smaler learning rate then initial learning rate on many epochs "
   ]
  },
  {
   "cell_type": "code",
   "execution_count": 19,
   "metadata": {},
   "outputs": [],
   "source": [
    "def piecwise_constant_fn(epoch):\n",
    "    if epoch < 5 :\n",
    "        return 1e-2\n",
    "    if epoch < 15:\n",
    "        return 5e-3\n",
    "    else:\n",
    "        return 1e-3\n"
   ]
  },
  {
   "cell_type": "code",
   "execution_count": 20,
   "metadata": {},
   "outputs": [],
   "source": [
    "def piecwise_constant_scheduling(boundaries,values):\n",
    "    boundaries = np.array([0] + boundaries)\n",
    "    values = np.array(values)\n",
    "    def piecwise_constant_fn(epoch):\n",
    "        return values[np.argmax(boundaries > epoch) - 1]\n",
    "    return piecwise_constant_fn\n",
    "piecwise_constant_fn = piecwise_constant_scheduling([5,15],[1e-2,5e-3,1e-3])"
   ]
  },
  {
   "cell_type": "code",
   "execution_count": 21,
   "metadata": {},
   "outputs": [
    {
     "data": {
      "text/plain": [
       "array([ 0,  5, 15])"
      ]
     },
     "execution_count": 21,
     "metadata": {},
     "output_type": "execute_result"
    }
   ],
   "source": [
    "np.array([0] + [5,15])"
   ]
  },
  {
   "cell_type": "code",
   "execution_count": 22,
   "metadata": {},
   "outputs": [
    {
     "name": "stdout",
     "output_type": "stream",
     "text": [
      "Epoch 1/25\n",
      "1719/1719 [==============================] - 5s 3ms/step - loss: 0.7370 - accuracy: 0.7596 - val_loss: 0.7291 - val_accuracy: 0.7426 - lr: 0.0100\n",
      "Epoch 2/25\n",
      "1719/1719 [==============================] - 4s 2ms/step - loss: 0.5487 - accuracy: 0.8178 - val_loss: 0.6365 - val_accuracy: 0.8106 - lr: 0.0100\n",
      "Epoch 3/25\n",
      "1719/1719 [==============================] - 4s 3ms/step - loss: 0.4912 - accuracy: 0.8372 - val_loss: 0.5299 - val_accuracy: 0.8418 - lr: 0.0100\n",
      "Epoch 4/25\n",
      "1719/1719 [==============================] - 4s 3ms/step - loss: 0.4685 - accuracy: 0.8472 - val_loss: 0.4642 - val_accuracy: 0.8580 - lr: 0.0100\n",
      "Epoch 5/25\n",
      "1719/1719 [==============================] - 4s 3ms/step - loss: 0.4489 - accuracy: 0.8539 - val_loss: 0.4838 - val_accuracy: 0.8368 - lr: 0.0100\n",
      "Epoch 6/25\n",
      "1719/1719 [==============================] - 4s 3ms/step - loss: 0.3475 - accuracy: 0.8793 - val_loss: 0.3594 - val_accuracy: 0.8802 - lr: 0.0050\n",
      "Epoch 7/25\n",
      "1719/1719 [==============================] - 4s 2ms/step - loss: 0.3381 - accuracy: 0.8838 - val_loss: 0.3950 - val_accuracy: 0.8730 - lr: 0.0050\n",
      "Epoch 8/25\n",
      "1719/1719 [==============================] - 4s 3ms/step - loss: 0.3313 - accuracy: 0.8847 - val_loss: 0.4219 - val_accuracy: 0.8656 - lr: 0.0050\n",
      "Epoch 9/25\n",
      "1719/1719 [==============================] - 4s 3ms/step - loss: 0.3201 - accuracy: 0.8900 - val_loss: 0.4058 - val_accuracy: 0.8674 - lr: 0.0050\n",
      "Epoch 10/25\n",
      "1719/1719 [==============================] - 4s 3ms/step - loss: 0.3164 - accuracy: 0.8919 - val_loss: 0.3777 - val_accuracy: 0.8880 - lr: 0.0050\n",
      "Epoch 11/25\n",
      "1719/1719 [==============================] - 4s 3ms/step - loss: 0.3087 - accuracy: 0.8950 - val_loss: 0.3806 - val_accuracy: 0.8900 - lr: 0.0050\n",
      "Epoch 12/25\n",
      "1719/1719 [==============================] - 4s 3ms/step - loss: 0.3012 - accuracy: 0.8961 - val_loss: 0.3858 - val_accuracy: 0.8846 - lr: 0.0050\n",
      "Epoch 13/25\n",
      "1719/1719 [==============================] - 4s 3ms/step - loss: 0.3035 - accuracy: 0.8980 - val_loss: 0.4239 - val_accuracy: 0.8748 - lr: 0.0050\n",
      "Epoch 14/25\n",
      "1719/1719 [==============================] - 4s 3ms/step - loss: 0.2911 - accuracy: 0.8995 - val_loss: 0.4072 - val_accuracy: 0.8830 - lr: 0.0050\n",
      "Epoch 15/25\n",
      "1719/1719 [==============================] - 4s 3ms/step - loss: 0.2942 - accuracy: 0.9000 - val_loss: 0.4066 - val_accuracy: 0.8794 - lr: 0.0050\n",
      "Epoch 16/25\n",
      "1719/1719 [==============================] - 4s 3ms/step - loss: 0.2159 - accuracy: 0.9220 - val_loss: 0.3492 - val_accuracy: 0.8922 - lr: 0.0010\n",
      "Epoch 17/25\n",
      "1719/1719 [==============================] - 4s 3ms/step - loss: 0.2070 - accuracy: 0.9254 - val_loss: 0.3527 - val_accuracy: 0.8934 - lr: 0.0010\n",
      "Epoch 18/25\n",
      "1719/1719 [==============================] - 4s 3ms/step - loss: 0.2023 - accuracy: 0.9269 - val_loss: 0.3729 - val_accuracy: 0.8924 - lr: 0.0010\n",
      "Epoch 19/25\n",
      "1719/1719 [==============================] - 4s 3ms/step - loss: 0.1979 - accuracy: 0.9276 - val_loss: 0.3568 - val_accuracy: 0.8984 - lr: 0.0010\n",
      "Epoch 20/25\n",
      "1719/1719 [==============================] - 4s 3ms/step - loss: 0.1946 - accuracy: 0.9286 - val_loss: 0.3654 - val_accuracy: 0.8918 - lr: 0.0010\n",
      "Epoch 21/25\n",
      "1719/1719 [==============================] - 4s 3ms/step - loss: 0.1901 - accuracy: 0.9308 - val_loss: 0.3943 - val_accuracy: 0.8912 - lr: 0.0010\n",
      "Epoch 22/25\n",
      "1719/1719 [==============================] - 4s 3ms/step - loss: 0.1879 - accuracy: 0.9314 - val_loss: 0.3759 - val_accuracy: 0.8980 - lr: 0.0010\n",
      "Epoch 23/25\n",
      "1719/1719 [==============================] - 4s 3ms/step - loss: 0.1847 - accuracy: 0.9324 - val_loss: 0.3783 - val_accuracy: 0.8960 - lr: 0.0010\n",
      "Epoch 24/25\n",
      "1719/1719 [==============================] - 4s 3ms/step - loss: 0.1821 - accuracy: 0.9334 - val_loss: 0.3944 - val_accuracy: 0.8914 - lr: 0.0010\n",
      "Epoch 25/25\n",
      "1719/1719 [==============================] - 4s 3ms/step - loss: 0.1795 - accuracy: 0.9344 - val_loss: 0.3888 - val_accuracy: 0.8972 - lr: 0.0010\n"
     ]
    }
   ],
   "source": [
    "lr_scheduler = keras.callbacks.LearningRateScheduler(piecwise_constant_fn)\n",
    "model_4 = keras.models.Sequential([\n",
    "    keras.layers.Flatten(input_shape=[28, 28]),\n",
    "    keras.layers.Dense(300, activation=\"selu\", kernel_initializer=\"lecun_normal\"),\n",
    "    keras.layers.Dense(100, activation=\"selu\", kernel_initializer=\"lecun_normal\"),\n",
    "    keras.layers.Dense(10, activation=\"softmax\")\n",
    "])\n",
    "model_4.compile(loss=\"sparse_categorical_crossentropy\", optimizer=\"nadam\", metrics=[\"accuracy\"])\n",
    "n_epochs = 25\n",
    "history_4 = model_4.fit(X_train,y_train,epochs=n_epochs,\n",
    "                        validation_data = [X_valid,y_valid],\n",
    "                        callbacks=[lr_scheduler])\n"
   ]
  },
  {
   "cell_type": "code",
   "execution_count": 23,
   "metadata": {},
   "outputs": [
    {
     "name": "stdout",
     "output_type": "stream",
     "text": [
      "save figure  Piecewise Constant Scheduling\n"
     ]
    },
    {
     "data": {
      "image/png": "[encoded data removed]",
      "text/plain": [
       "<Figure size 432x288 with 1 Axes>"
      ]
     },
     "metadata": {
      "needs_background": "light"
     },
     "output_type": "display_data"
    }
   ],
   "source": [
    "plt.plot(history_4.epoch,[piecwise_constant_fn(epoch) for epoch in history_4.epoch],\"o-\")\n",
    "plt.axis([0,n_epochs,  0, 0.011])\n",
    "plt.xlabel(\"Epoch\")\n",
    "plt.ylabel(\"Learning Rate\")\n",
    "plt.title(\"Piecewise Constant Scheduling\", fontsize=14)\n",
    "plt.grid(True)\n",
    "save_fig(\"Piecewise Constant Scheduling\")\n",
    "plt.show()"
   ]
  },
  {
   "cell_type": "markdown",
   "metadata": {},
   "source": [
    "# 4. Performance Scheduling"
   ]
  },
  {
   "cell_type": "code",
   "execution_count": 24,
   "metadata": {},
   "outputs": [],
   "source": [
    "tf.random.set_seed(42)\n",
    "np.random.seed(42)"
   ]
  },
  {
   "cell_type": "markdown",
   "metadata": {},
   "source": [
    "Patience :\n",
    "\n",
    "Ketika Anda melatih sesuatu, itu dimulai dari kerugian tinggi dan selama pelatihan, kerugiannya turun dan turun (akurasi semakin tinggi).\n",
    "\n",
    "Setelah beberapa epoch yang terbatas, loss yang cukup rendah tidak akan turun (akurasi tidak bertambah tinggi). Dalam situasi ini, tampaknya melatih lebih banyak epoch tidak berguna karena kereta Anda hampir selesai.\n",
    "\n",
    "Sekarang pada saat ini, nilai kesabaran memberi tahu pelatih, berapa banyak epoch yang harus dilanjutkan setelah kerugian berhenti berkurang. Jika Anda tidak menetapkan nilai kesabaran, pelatihan akan berlanjut untuk semua epoch yang Anda tetapkan, bahkan jika hasil pelatihan Anda tidak membaik. Nilai ini menghemat waktu dan energi Anda (dengan mengistirahatkan GPU)."
   ]
  },
  {
   "cell_type": "code",
   "execution_count": 28,
   "metadata": {},
   "outputs": [
    {
     "name": "stdout",
     "output_type": "stream",
     "text": [
      "Epoch 1/25\n",
      "1719/1719 [==============================] - 3s 2ms/step - loss: 0.5158 - accuracy: 0.8136 - val_loss: 0.4151 - val_accuracy: 0.8482 - lr: 0.0100\n",
      "Epoch 2/25\n",
      "1719/1719 [==============================] - 3s 2ms/step - loss: 0.4030 - accuracy: 0.8530 - val_loss: 0.3955 - val_accuracy: 0.8628 - lr: 0.0100\n",
      "Epoch 3/25\n",
      "1719/1719 [==============================] - 3s 2ms/step - loss: 0.3732 - accuracy: 0.8615 - val_loss: 0.3614 - val_accuracy: 0.8638 - lr: 0.0100\n",
      "Epoch 4/25\n",
      "1719/1719 [==============================] - 3s 2ms/step - loss: 0.3506 - accuracy: 0.8712 - val_loss: 0.3465 - val_accuracy: 0.8702 - lr: 0.0100\n",
      "Epoch 5/25\n",
      "1719/1719 [==============================] - 3s 2ms/step - loss: 0.3355 - accuracy: 0.8773 - val_loss: 0.3352 - val_accuracy: 0.8766 - lr: 0.0100\n",
      "Epoch 6/25\n",
      "1719/1719 [==============================] - 3s 2ms/step - loss: 0.3226 - accuracy: 0.8815 - val_loss: 0.3404 - val_accuracy: 0.8794 - lr: 0.0100\n",
      "Epoch 7/25\n",
      "1719/1719 [==============================] - 3s 2ms/step - loss: 0.3154 - accuracy: 0.8827 - val_loss: 0.3219 - val_accuracy: 0.8848 - lr: 0.0100\n",
      "Epoch 8/25\n",
      "1719/1719 [==============================] - 3s 2ms/step - loss: 0.3039 - accuracy: 0.8871 - val_loss: 0.3489 - val_accuracy: 0.8722 - lr: 0.0100\n",
      "Epoch 9/25\n",
      "1719/1719 [==============================] - 3s 2ms/step - loss: 0.2949 - accuracy: 0.8904 - val_loss: 0.3267 - val_accuracy: 0.8822 - lr: 0.0100\n",
      "Epoch 10/25\n",
      "1719/1719 [==============================] - 3s 2ms/step - loss: 0.2862 - accuracy: 0.8928 - val_loss: 0.3083 - val_accuracy: 0.8888 - lr: 0.0100\n",
      "Epoch 11/25\n",
      "1719/1719 [==============================] - 3s 2ms/step - loss: 0.2783 - accuracy: 0.8961 - val_loss: 0.3430 - val_accuracy: 0.8784 - lr: 0.0100\n",
      "Epoch 12/25\n",
      "1719/1719 [==============================] - 3s 2ms/step - loss: 0.2762 - accuracy: 0.8963 - val_loss: 0.3758 - val_accuracy: 0.8686 - lr: 0.0100\n",
      "Epoch 13/25\n",
      "1719/1719 [==============================] - 3s 2ms/step - loss: 0.2685 - accuracy: 0.9003 - val_loss: 0.3282 - val_accuracy: 0.8846 - lr: 0.0100\n",
      "Epoch 14/25\n",
      "1719/1719 [==============================] - 3s 2ms/step - loss: 0.2601 - accuracy: 0.9020 - val_loss: 0.3429 - val_accuracy: 0.8742 - lr: 0.0100\n",
      "Epoch 15/25\n",
      "1719/1719 [==============================] - 3s 2ms/step - loss: 0.2573 - accuracy: 0.9038 - val_loss: 0.3391 - val_accuracy: 0.8844 - lr: 0.0100\n",
      "Epoch 16/25\n",
      "1719/1719 [==============================] - 3s 2ms/step - loss: 0.2111 - accuracy: 0.9216 - val_loss: 0.3051 - val_accuracy: 0.8964 - lr: 0.0050\n",
      "Epoch 17/25\n",
      "1719/1719 [==============================] - 3s 2ms/step - loss: 0.2029 - accuracy: 0.9239 - val_loss: 0.3122 - val_accuracy: 0.8920 - lr: 0.0050\n",
      "Epoch 18/25\n",
      "1719/1719 [==============================] - 3s 2ms/step - loss: 0.1988 - accuracy: 0.9254 - val_loss: 0.3183 - val_accuracy: 0.8960 - lr: 0.0050\n",
      "Epoch 19/25\n",
      "1719/1719 [==============================] - 3s 2ms/step - loss: 0.1949 - accuracy: 0.9271 - val_loss: 0.3034 - val_accuracy: 0.8938 - lr: 0.0050\n",
      "Epoch 20/25\n",
      "1719/1719 [==============================] - 3s 2ms/step - loss: 0.1920 - accuracy: 0.9273 - val_loss: 0.3008 - val_accuracy: 0.8998 - lr: 0.0050\n",
      "Epoch 21/25\n",
      "1719/1719 [==============================] - 3s 2ms/step - loss: 0.1873 - accuracy: 0.9299 - val_loss: 0.3294 - val_accuracy: 0.8932 - lr: 0.0050\n",
      "Epoch 22/25\n",
      "1719/1719 [==============================] - 3s 2ms/step - loss: 0.1861 - accuracy: 0.9294 - val_loss: 0.3186 - val_accuracy: 0.8976 - lr: 0.0050\n",
      "Epoch 23/25\n",
      "1719/1719 [==============================] - 3s 2ms/step - loss: 0.1831 - accuracy: 0.9315 - val_loss: 0.3193 - val_accuracy: 0.8924 - lr: 0.0050\n",
      "Epoch 24/25\n",
      "1719/1719 [==============================] - 3s 2ms/step - loss: 0.1778 - accuracy: 0.9328 - val_loss: 0.3245 - val_accuracy: 0.8904 - lr: 0.0050\n",
      "Epoch 25/25\n",
      "1719/1719 [==============================] - 3s 2ms/step - loss: 0.1755 - accuracy: 0.9327 - val_loss: 0.3307 - val_accuracy: 0.8948 - lr: 0.0050\n"
     ]
    }
   ],
   "source": [
    "lr_scheduler = keras.callbacks.ReduceLROnPlateau(factor = 0.5, patience=5)\n",
    "\n",
    "model_5 = keras.models.Sequential([\n",
    "    keras.layers.Flatten(input_shape=[28,28]),\n",
    "    keras.layers.Dense(300,activation=\"selu\",kernel_initializer=\"lecun_normal\"),\n",
    "    keras.layers.Dense(100,activation=\"selu\",kernel_initializer = \"lecun_normal\"),\n",
    "    keras.layers.Dense(10,activation=\"softmax\")\n",
    "])\n",
    "optimizer = keras.optimizers.SGD(learning_rate=1e-2, momentum = 0.9)\n",
    "model_5.compile(loss=\"sparse_categorical_crossentropy\",optimizer=optimizer,\n",
    "                metrics=[\"accuracy\"])\n",
    "n_epochs = 25\n",
    "history_5=model_5.fit(X_train,y_train,epochs=n_epochs,\n",
    "            validation_data = [X_valid,y_valid],\n",
    "            callbacks=[lr_scheduler])"
   ]
  },
  {
   "cell_type": "code",
   "execution_count": 43,
   "metadata": {},
   "outputs": [
    {
     "name": "stdout",
     "output_type": "stream",
     "text": [
      "save figure  Performance Scheduling\n"
     ]
    },
    {
     "data": {
      "image/png": "[encoded data removed]",
      "text/plain": [
       "<Figure size 432x288 with 2 Axes>"
      ]
     },
     "metadata": {
      "needs_background": "light"
     },
     "output_type": "display_data"
    }
   ],
   "source": [
    "plt.plot(history_5.epoch, history_5.history['lr'],\"-bo\")\n",
    "plt.grid(True)\n",
    "plt.xlabel(\"Epoch\")\n",
    "plt.ylabel(\"Learning Rate\", color='b')\n",
    "plt.tick_params('y', colors='b')\n",
    "plt.gca().set_xlim(0,n_epochs-1)\n",
    "\n",
    "ax2 = plt.gca().twinx()\n",
    "ax2.plot(history_5.epoch,history_5.history['val_loss'],'r^-')\n",
    "ax2.set_ylabel(\"validation loss\",color='r')\n",
    "ax2.tick_params('y',color='r')\n",
    "save_fig(\"Performance Scheduling\")\n",
    "plt.show()"
   ]
  },
  {
   "cell_type": "markdown",
   "metadata": {},
   "source": [
    "# Menggunakan tf.keras.schedulers"
   ]
  },
  {
   "cell_type": "code",
   "execution_count": 45,
   "metadata": {},
   "outputs": [
    {
     "name": "stdout",
     "output_type": "stream",
     "text": [
      "Epoch 1/25\n",
      "1719/1719 [==============================] - 3s 2ms/step - loss: 0.5830 - accuracy: 0.7974 - val_loss: 0.4624 - val_accuracy: 0.8460\n",
      "Epoch 2/25\n",
      "1719/1719 [==============================] - 3s 2ms/step - loss: 0.4481 - accuracy: 0.8400 - val_loss: 0.4138 - val_accuracy: 0.8596\n",
      "Epoch 3/25\n",
      "1719/1719 [==============================] - 3s 2ms/step - loss: 0.4178 - accuracy: 0.8518 - val_loss: 0.4791 - val_accuracy: 0.8184\n",
      "Epoch 4/25\n",
      "1719/1719 [==============================] - 3s 2ms/step - loss: 0.3999 - accuracy: 0.8579 - val_loss: 0.3932 - val_accuracy: 0.8644\n",
      "Epoch 5/25\n",
      "1719/1719 [==============================] - 3s 2ms/step - loss: 0.3880 - accuracy: 0.8633 - val_loss: 0.3837 - val_accuracy: 0.8658\n",
      "Epoch 6/25\n",
      "1719/1719 [==============================] - 3s 2ms/step - loss: 0.3760 - accuracy: 0.8666 - val_loss: 0.3780 - val_accuracy: 0.8720\n",
      "Epoch 7/25\n",
      "1719/1719 [==============================] - 3s 2ms/step - loss: 0.3682 - accuracy: 0.8697 - val_loss: 0.3718 - val_accuracy: 0.8712\n",
      "Epoch 8/25\n",
      "1719/1719 [==============================] - 3s 2ms/step - loss: 0.3612 - accuracy: 0.8713 - val_loss: 0.3810 - val_accuracy: 0.8654\n",
      "Epoch 9/25\n",
      "1719/1719 [==============================] - 3s 2ms/step - loss: 0.3549 - accuracy: 0.8744 - val_loss: 0.3672 - val_accuracy: 0.8694\n",
      "Epoch 10/25\n",
      "1719/1719 [==============================] - 3s 1ms/step - loss: 0.3495 - accuracy: 0.8756 - val_loss: 0.3607 - val_accuracy: 0.8744\n",
      "Epoch 11/25\n",
      "1719/1719 [==============================] - 3s 1ms/step - loss: 0.3449 - accuracy: 0.8766 - val_loss: 0.3608 - val_accuracy: 0.8728\n",
      "Epoch 12/25\n",
      "1719/1719 [==============================] - 3s 1ms/step - loss: 0.3403 - accuracy: 0.8788 - val_loss: 0.3556 - val_accuracy: 0.8758\n",
      "Epoch 13/25\n",
      "1719/1719 [==============================] - 3s 2ms/step - loss: 0.3369 - accuracy: 0.8803 - val_loss: 0.3554 - val_accuracy: 0.8776\n",
      "Epoch 14/25\n",
      "1719/1719 [==============================] - 3s 2ms/step - loss: 0.3337 - accuracy: 0.8816 - val_loss: 0.3608 - val_accuracy: 0.8748\n",
      "Epoch 15/25\n",
      "1719/1719 [==============================] - 3s 2ms/step - loss: 0.3303 - accuracy: 0.8824 - val_loss: 0.3495 - val_accuracy: 0.8756\n",
      "Epoch 16/25\n",
      "1719/1719 [==============================] - 3s 2ms/step - loss: 0.3278 - accuracy: 0.8839 - val_loss: 0.3476 - val_accuracy: 0.8792\n",
      "Epoch 17/25\n",
      "1719/1719 [==============================] - 3s 2ms/step - loss: 0.3253 - accuracy: 0.8839 - val_loss: 0.3579 - val_accuracy: 0.8776\n",
      "Epoch 18/25\n",
      "1719/1719 [==============================] - 3s 1ms/step - loss: 0.3230 - accuracy: 0.8850 - val_loss: 0.3475 - val_accuracy: 0.8774\n",
      "Epoch 19/25\n",
      "1719/1719 [==============================] - 3s 1ms/step - loss: 0.3212 - accuracy: 0.8857 - val_loss: 0.3467 - val_accuracy: 0.8790\n",
      "Epoch 20/25\n",
      "1719/1719 [==============================] - 3s 1ms/step - loss: 0.3194 - accuracy: 0.8866 - val_loss: 0.3462 - val_accuracy: 0.8784\n",
      "Epoch 21/25\n",
      "1719/1719 [==============================] - 3s 1ms/step - loss: 0.3175 - accuracy: 0.8873 - val_loss: 0.3423 - val_accuracy: 0.8790\n",
      "Epoch 22/25\n",
      "1719/1719 [==============================] - 3s 1ms/step - loss: 0.3161 - accuracy: 0.8879 - val_loss: 0.3412 - val_accuracy: 0.8802\n",
      "Epoch 23/25\n",
      "1719/1719 [==============================] - 3s 1ms/step - loss: 0.3148 - accuracy: 0.8870 - val_loss: 0.3410 - val_accuracy: 0.8802\n",
      "Epoch 24/25\n",
      "1719/1719 [==============================] - 3s 2ms/step - loss: 0.3134 - accuracy: 0.8881 - val_loss: 0.3418 - val_accuracy: 0.8794\n",
      "Epoch 25/25\n",
      "1719/1719 [==============================] - 3s 2ms/step - loss: 0.3126 - accuracy: 0.8889 - val_loss: 0.3422 - val_accuracy: 0.8790\n"
     ]
    }
   ],
   "source": [
    "# menggunakan learning rate expoentsial decay fn scheduling\n",
    "model_6 =keras.models.Sequential([\n",
    "    keras.layers.Flatten(input_shape=[28, 28]),\n",
    "    keras.layers.Dense(300, activation=\"selu\", kernel_initializer=\"lecun_normal\"),\n",
    "    keras.layers.Dense(100, activation=\"selu\", kernel_initializer=\"lecun_normal\"),\n",
    "    keras.layers.Dense(10, activation=\"softmax\")\n",
    "])\n",
    "n_epochs = 25\n",
    "s = n_epochs * len(X_train) //32 # number of steps in 20 epochs (batchsize=32)\n",
    "learning_rate = keras.optimizers.schedules.ExponentialDecay(1e-2,s,1e-1)\n",
    "optimizer = keras.optimizers.SGD(learning_rate=learning_rate)\n",
    "model_6.compile(loss=\"sparse_categorical_crossentropy\",optimizer=optimizer,\n",
    "                metrics=['accuracy'])\n",
    "history_6 = model_6.fit(X_train,y_train,epochs=n_epochs,\n",
    "                        validation_data = [X_valid,y_valid])"
   ]
  },
  {
   "cell_type": "markdown",
   "metadata": {},
   "source": [
    "jika menggunakan PiecewiseConstantDecay"
   ]
  },
  {
   "cell_type": "code",
   "execution_count": 47,
   "metadata": {},
   "outputs": [
    {
     "name": "stdout",
     "output_type": "stream",
     "text": [
      "Epoch 1/25\n",
      "1719/1719 [==============================] - 3s 2ms/step - loss: 0.5851 - accuracy: 0.7955 - val_loss: 0.4721 - val_accuracy: 0.8370\n",
      "Epoch 2/25\n",
      "1719/1719 [==============================] - 3s 2ms/step - loss: 0.4488 - accuracy: 0.8388 - val_loss: 0.4093 - val_accuracy: 0.8592\n",
      "Epoch 3/25\n",
      "1719/1719 [==============================] - 3s 2ms/step - loss: 0.4176 - accuracy: 0.8501 - val_loss: 0.5147 - val_accuracy: 0.8032\n",
      "Epoch 4/25\n",
      "1719/1719 [==============================] - 3s 2ms/step - loss: 0.3994 - accuracy: 0.8575 - val_loss: 0.3844 - val_accuracy: 0.8672\n",
      "Epoch 5/25\n",
      "1719/1719 [==============================] - 3s 2ms/step - loss: 0.3864 - accuracy: 0.8619 - val_loss: 0.3792 - val_accuracy: 0.8652\n",
      "Epoch 6/25\n",
      "1719/1719 [==============================] - 3s 2ms/step - loss: 0.3641 - accuracy: 0.8706 - val_loss: 0.3666 - val_accuracy: 0.8704\n",
      "Epoch 7/25\n",
      "1719/1719 [==============================] - 3s 2ms/step - loss: 0.3590 - accuracy: 0.8733 - val_loss: 0.3631 - val_accuracy: 0.8716\n",
      "Epoch 8/25\n",
      "1719/1719 [==============================] - 3s 2ms/step - loss: 0.3543 - accuracy: 0.8745 - val_loss: 0.3748 - val_accuracy: 0.8652\n",
      "Epoch 9/25\n",
      "1719/1719 [==============================] - 3s 2ms/step - loss: 0.3497 - accuracy: 0.8760 - val_loss: 0.3614 - val_accuracy: 0.8678\n",
      "Epoch 10/25\n",
      "1719/1719 [==============================] - 3s 2ms/step - loss: 0.3453 - accuracy: 0.8775 - val_loss: 0.3576 - val_accuracy: 0.8754\n",
      "Epoch 11/25\n",
      "1719/1719 [==============================] - 3s 2ms/step - loss: 0.3414 - accuracy: 0.8784 - val_loss: 0.3559 - val_accuracy: 0.8712\n",
      "Epoch 12/25\n",
      "1719/1719 [==============================] - 3s 2ms/step - loss: 0.3367 - accuracy: 0.8796 - val_loss: 0.3505 - val_accuracy: 0.8774\n",
      "Epoch 13/25\n",
      "1719/1719 [==============================] - 3s 2ms/step - loss: 0.3335 - accuracy: 0.8814 - val_loss: 0.3517 - val_accuracy: 0.8766\n",
      "Epoch 14/25\n",
      "1719/1719 [==============================] - 3s 2ms/step - loss: 0.3304 - accuracy: 0.8826 - val_loss: 0.3622 - val_accuracy: 0.8700\n",
      "Epoch 15/25\n",
      "1719/1719 [==============================] - 3s 2ms/step - loss: 0.3263 - accuracy: 0.8834 - val_loss: 0.3463 - val_accuracy: 0.8756\n",
      "Epoch 16/25\n",
      "1719/1719 [==============================] - 3s 2ms/step - loss: 0.3154 - accuracy: 0.8879 - val_loss: 0.3388 - val_accuracy: 0.8784\n",
      "Epoch 17/25\n",
      "1719/1719 [==============================] - 3s 2ms/step - loss: 0.3143 - accuracy: 0.8886 - val_loss: 0.3411 - val_accuracy: 0.8798\n",
      "Epoch 18/25\n",
      "1719/1719 [==============================] - 3s 2ms/step - loss: 0.3134 - accuracy: 0.8891 - val_loss: 0.3401 - val_accuracy: 0.8792\n",
      "Epoch 19/25\n",
      "1719/1719 [==============================] - 3s 2ms/step - loss: 0.3129 - accuracy: 0.8888 - val_loss: 0.3407 - val_accuracy: 0.8798\n",
      "Epoch 20/25\n",
      "1719/1719 [==============================] - 3s 2ms/step - loss: 0.3122 - accuracy: 0.8893 - val_loss: 0.3385 - val_accuracy: 0.8786\n",
      "Epoch 21/25\n",
      "1719/1719 [==============================] - 3s 2ms/step - loss: 0.3114 - accuracy: 0.8893 - val_loss: 0.3368 - val_accuracy: 0.8792\n",
      "Epoch 22/25\n",
      "1719/1719 [==============================] - 3s 2ms/step - loss: 0.3107 - accuracy: 0.8896 - val_loss: 0.3369 - val_accuracy: 0.8766\n",
      "Epoch 23/25\n",
      "1719/1719 [==============================] - 3s 2ms/step - loss: 0.3101 - accuracy: 0.8892 - val_loss: 0.3360 - val_accuracy: 0.8778\n",
      "Epoch 24/25\n",
      "1719/1719 [==============================] - 3s 2ms/step - loss: 0.3092 - accuracy: 0.8902 - val_loss: 0.3368 - val_accuracy: 0.8786\n",
      "Epoch 25/25\n",
      "1719/1719 [==============================] - 3s 2ms/step - loss: 0.3088 - accuracy: 0.8910 - val_loss: 0.3378 - val_accuracy: 0.8776\n"
     ]
    },
    {
     "data": {
      "text/plain": [
       "<keras.callbacks.History at 0x12dcca37130>"
      ]
     },
     "execution_count": 47,
     "metadata": {},
     "output_type": "execute_result"
    }
   ],
   "source": [
    "batch_size=32\n",
    "n_steps_per_epochs = math.ceil(len(X_train)/batch_size)\n",
    "\n",
    "learning_rate = keras.optimizers.schedules.PiecewiseConstantDecay(\n",
    "    boundaries = [5. *n_steps_per_epochs, 15. * n_steps_per_epochs],\n",
    "    values=[1e-2,5e-3,1e-3]\n",
    ")\n",
    "model_7 = keras.models.Sequential([\n",
    "    keras.layers.Flatten(input_shape=[28, 28]),\n",
    "    keras.layers.Dense(300, activation=\"selu\", kernel_initializer=\"lecun_normal\"),\n",
    "    keras.layers.Dense(100, activation=\"selu\", kernel_initializer=\"lecun_normal\"),\n",
    "    keras.layers.Dense(10, activation=\"softmax\")\n",
    "])\n",
    "optimizer = keras.optimizers.SGD(learning_rate=learning_rate)\n",
    "model_7.compile(loss=\"sparse_categorical_crossentropy\",optimizer=optimizer,\n",
    "                metrics=['accuracy'])\n",
    "model_7.fit(X_train,y_train, epochs=n_epochs,\n",
    "            validation_data = [X_valid,y_valid])"
   ]
  },
  {
   "cell_type": "markdown",
   "metadata": {},
   "source": [
    "# 5.  1Cycle scheduling"
   ]
  },
  {
   "cell_type": "code",
   "execution_count": 57,
   "metadata": {},
   "outputs": [],
   "source": [
    "# create class ExponensialLearningRate base scheduling classes\n",
    "K = keras.backend\n",
    "\n",
    "class ExponensialLearningRate(keras.callbacks.Callback):\n",
    "    def __init__(self,factor):\n",
    "        self.factor = factor\n",
    "        self.rates = []\n",
    "        self.losses = []\n",
    "    \n",
    "    def on_batch_end(self,batch,logs):\n",
    "        self.rates.append(K.get_value(self.model.optimizer.learning_rate))\n",
    "        self.losses.append(logs['loss'])\n",
    "        K.set_value(self.model.optimizer.learning_rate, self.model.optimizer.learning_rate * self.factor)\n"
   ]
  },
  {
   "cell_type": "code",
   "execution_count": 50,
   "metadata": {},
   "outputs": [],
   "source": [
    "# fungsi for find learning rate per batch file\n",
    "def find_learning_rate(model,X,y,epochs=1,batch_size=32,min_rate = 10**-5,max_rate = 10):\n",
    "    init_weights = model.get_weights()\n",
    "    iteration = math.ceil(len(X)/batch_size) * epochs\n",
    "    factor = np.exp(np.log(max_rate / min_rate) / iteration)\n",
    "    init_lr = K.get_value(model.optimizer.learning_rate)\n",
    "    K.set_value(model.optimizer.learning_rate, min_rate)\n",
    "    \n",
    "    exp_lr = ExponensialLearningRate(factor)\n",
    "    history_7 = model.fit(X,y,epochs=epochs,batch_size=batch_size,\n",
    "                          callbacks=[exp_lr])\n",
    "    K.set_value(model.optimizer.learning_rate,init_lr)\n",
    "    model.set_weights(init_weights)\n",
    "    return exp_lr.rates, exp_lr.losses"
   ]
  },
  {
   "cell_type": "code",
   "execution_count": 55,
   "metadata": {},
   "outputs": [],
   "source": [
    "def plot_lr_vs_loss(rates,losses):\n",
    "    plt.plot(rates,losses)\n",
    "    plt.gca().set_xscale('log')\n",
    "    plt.hlines(min(losses), min(rates), max(rates))\n",
    "    plt.axis([min(rates), max(rates), min(losses), (losses[0] + min(losses)) / 2])\n",
    "    plt.xlabel(\"Learning rate\")\n",
    "    plt.ylabel(\"Loss\")"
   ]
  },
  {
   "cell_type": "code",
   "execution_count": 53,
   "metadata": {},
   "outputs": [],
   "source": [
    "tf.random.set_seed(42)\n",
    "np.random.seed(42)\n",
    "\n",
    "model_8 = keras.models.Sequential([\n",
    "    keras.layers.Flatten(input_shape=[28, 28]),\n",
    "    keras.layers.Dense(300, activation=\"selu\", kernel_initializer=\"lecun_normal\"),\n",
    "    keras.layers.Dense(100, activation=\"selu\", kernel_initializer=\"lecun_normal\"),\n",
    "    keras.layers.Dense(10, activation=\"softmax\")\n",
    "])\n",
    "\n",
    "model_8.compile(loss=\"sparse_categorical_crossentropy\",\n",
    "                optimizer=keras.optimizers.SGD(learning_rate=1e-3),\n",
    "                metrics=['accuracy'])"
   ]
  },
  {
   "cell_type": "code",
   "execution_count": 58,
   "metadata": {},
   "outputs": [
    {
     "name": "stdout",
     "output_type": "stream",
     "text": [
      "430/430 [==============================] - 1s 2ms/step - loss: 142562.9375 - accuracy: 0.3010\n"
     ]
    },
    {
     "data": {
      "image/png": "[encoded data removed]",
      "text/plain": [
       "<Figure size 432x288 with 1 Axes>"
      ]
     },
     "metadata": {
      "needs_background": "light"
     },
     "output_type": "display_data"
    }
   ],
   "source": [
    "batch_size=128\n",
    "rates,losses = find_learning_rate(model_8,X_train,y_train,epochs=1,batch_size=batch_size)\n",
    "plot_lr_vs_loss(rates,losses)"
   ]
  },
  {
   "cell_type": "code",
   "execution_count": 59,
   "metadata": {},
   "outputs": [],
   "source": [
    "class OneCycleScheduler(keras.callbacks.Callback):\n",
    "    def __init__(self, iterations, max_rate, start_rate=None,\n",
    "                 last_iterations=None, last_rate=None):\n",
    "        self.iterations = iterations\n",
    "        self.max_rate = max_rate\n",
    "        self.start_rate = start_rate or max_rate / 10\n",
    "        self.last_iterations = last_iterations or iterations // 10 + 1\n",
    "        self.half_iteration = (iterations - self.last_iterations) // 2\n",
    "        self.last_rate = last_rate or self.start_rate / 1000\n",
    "        self.iteration = 0\n",
    "    def _interpolate(self, iter1, iter2, rate1, rate2):\n",
    "        return ((rate2 - rate1) * (self.iteration - iter1)\n",
    "                / (iter2 - iter1) + rate1)\n",
    "    def on_batch_begin(self, batch, logs):\n",
    "        if self.iteration < self.half_iteration:\n",
    "            rate = self._interpolate(0, self.half_iteration, self.start_rate, self.max_rate)\n",
    "        elif self.iteration < 2 * self.half_iteration:\n",
    "            rate = self._interpolate(self.half_iteration, 2 * self.half_iteration,\n",
    "                                     self.max_rate, self.start_rate)\n",
    "        else:\n",
    "            rate = self._interpolate(2 * self.half_iteration, self.iterations,\n",
    "                                     self.start_rate, self.last_rate)\n",
    "        self.iteration += 1\n",
    "        K.set_value(self.model.optimizer.learning_rate, rate)"
   ]
  },
  {
   "cell_type": "code",
   "execution_count": 61,
   "metadata": {},
   "outputs": [
    {
     "name": "stdout",
     "output_type": "stream",
     "text": [
      "Epoch 1/25\n",
      "430/430 [==============================] - 1s 2ms/step - loss: 0.8999 - accuracy: 0.7112 - val_loss: 0.6158 - val_accuracy: 0.7996\n",
      "Epoch 2/25\n",
      "430/430 [==============================] - 1s 2ms/step - loss: 0.5613 - accuracy: 0.8109 - val_loss: 0.5025 - val_accuracy: 0.8322\n",
      "Epoch 3/25\n",
      "430/430 [==============================] - 1s 2ms/step - loss: 0.4921 - accuracy: 0.8273 - val_loss: 0.4845 - val_accuracy: 0.8262\n",
      "Epoch 4/25\n",
      "430/430 [==============================] - 1s 2ms/step - loss: 0.4596 - accuracy: 0.8370 - val_loss: 0.4548 - val_accuracy: 0.8394\n",
      "Epoch 5/25\n",
      "430/430 [==============================] - 1s 2ms/step - loss: 0.4451 - accuracy: 0.8424 - val_loss: 0.4344 - val_accuracy: 0.8498\n",
      "Epoch 6/25\n",
      "430/430 [==============================] - 1s 2ms/step - loss: 0.4292 - accuracy: 0.8463 - val_loss: 0.4138 - val_accuracy: 0.8606\n",
      "Epoch 7/25\n",
      "430/430 [==============================] - 1s 2ms/step - loss: 0.4163 - accuracy: 0.8519 - val_loss: 0.4057 - val_accuracy: 0.8596\n",
      "Epoch 8/25\n",
      "430/430 [==============================] - 1s 2ms/step - loss: 0.4052 - accuracy: 0.8551 - val_loss: 0.4362 - val_accuracy: 0.8412\n",
      "Epoch 9/25\n",
      "430/430 [==============================] - 1s 2ms/step - loss: 0.3963 - accuracy: 0.8571 - val_loss: 0.4149 - val_accuracy: 0.8530\n",
      "Epoch 10/25\n",
      "430/430 [==============================] - 1s 2ms/step - loss: 0.3895 - accuracy: 0.8583 - val_loss: 0.3922 - val_accuracy: 0.8608\n",
      "Epoch 11/25\n",
      "430/430 [==============================] - 1s 2ms/step - loss: 0.3798 - accuracy: 0.8622 - val_loss: 0.3839 - val_accuracy: 0.8630\n",
      "Epoch 12/25\n",
      "430/430 [==============================] - 1s 2ms/step - loss: 0.3672 - accuracy: 0.8664 - val_loss: 0.3826 - val_accuracy: 0.8642\n",
      "Epoch 13/25\n",
      "430/430 [==============================] - 1s 2ms/step - loss: 0.3545 - accuracy: 0.8716 - val_loss: 0.3556 - val_accuracy: 0.8756\n",
      "Epoch 14/25\n",
      "430/430 [==============================] - 1s 2ms/step - loss: 0.3434 - accuracy: 0.8750 - val_loss: 0.3778 - val_accuracy: 0.8612\n",
      "Epoch 15/25\n",
      "430/430 [==============================] - 1s 2ms/step - loss: 0.3337 - accuracy: 0.8789 - val_loss: 0.3549 - val_accuracy: 0.8710\n",
      "Epoch 16/25\n",
      "430/430 [==============================] - 1s 2ms/step - loss: 0.3251 - accuracy: 0.8827 - val_loss: 0.3364 - val_accuracy: 0.8786\n",
      "Epoch 17/25\n",
      "430/430 [==============================] - 1s 2ms/step - loss: 0.3181 - accuracy: 0.8848 - val_loss: 0.3631 - val_accuracy: 0.8670\n",
      "Epoch 18/25\n",
      "430/430 [==============================] - 1s 2ms/step - loss: 0.3118 - accuracy: 0.8878 - val_loss: 0.3401 - val_accuracy: 0.8764\n",
      "Epoch 19/25\n",
      "430/430 [==============================] - 1s 2ms/step - loss: 0.3057 - accuracy: 0.8895 - val_loss: 0.3345 - val_accuracy: 0.8808\n",
      "Epoch 20/25\n",
      "430/430 [==============================] - 1s 2ms/step - loss: 0.3008 - accuracy: 0.8918 - val_loss: 0.3349 - val_accuracy: 0.8792\n",
      "Epoch 21/25\n",
      "430/430 [==============================] - 1s 2ms/step - loss: 0.2964 - accuracy: 0.8937 - val_loss: 0.3265 - val_accuracy: 0.8810\n",
      "Epoch 22/25\n",
      "430/430 [==============================] - 1s 2ms/step - loss: 0.2931 - accuracy: 0.8942 - val_loss: 0.3243 - val_accuracy: 0.8828\n",
      "Epoch 23/25\n",
      "430/430 [==============================] - 1s 2ms/step - loss: 0.2901 - accuracy: 0.8957 - val_loss: 0.3245 - val_accuracy: 0.8806\n",
      "Epoch 24/25\n",
      "430/430 [==============================] - 1s 2ms/step - loss: 0.2881 - accuracy: 0.8971 - val_loss: 0.3247 - val_accuracy: 0.8822\n",
      "Epoch 25/25\n",
      "430/430 [==============================] - 1s 2ms/step - loss: 0.2872 - accuracy: 0.8970 - val_loss: 0.3237 - val_accuracy: 0.8820\n"
     ]
    }
   ],
   "source": [
    "n_epochs = 25\n",
    "onecycle = OneCycleScheduler(math.ceil(len(X_train)/batch_size) * n_epochs,max_rate=5e-2)\n",
    "history_9 = model_8.fit(X_train,y_train,epochs = n_epochs,batch_size=batch_size,\n",
    "                        validation_data = [X_valid,y_valid],\n",
    "                        callbacks=[onecycle])"
   ]
  }
 ],
 "metadata": {
  "kernelspec": {
   "display_name": "Python 3.9.9 ('env': venv)",
   "language": "python",
   "name": "python3"
  },
  "language_info": {
   "codemirror_mode": {
    "name": "ipython",
    "version": 3
   },
   "file_extension": ".py",
   "mimetype": "text/x-python",
   "name": "python",
   "nbconvert_exporter": "python",
   "pygments_lexer": "ipython3",
   "version": "3.9.9"
  },
  "orig_nbformat": 4,
  "vscode": {
   "interpreter": {
    "hash": "4ec5c1472ff0ffb40d4bfde534367b3b628558da3aa61cb988263ac340cc3560"
   }
  }
 },
 "nbformat": 4,
 "nbformat_minor": 2
}
